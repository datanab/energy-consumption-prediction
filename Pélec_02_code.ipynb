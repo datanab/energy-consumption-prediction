{
 "cells": [
  {
   "cell_type": "code",
   "execution_count": 224,
   "id": "2f4e0c05",
   "metadata": {},
   "outputs": [],
   "source": [
    "import pandas as pd\n",
    "pd.set_option('display.max_columns',None)\n",
    "pd.set_option('display.max_rows',None)\n",
    "pd.set_option(\"display.precision\",5)"
   ]
  },
  {
   "cell_type": "code",
   "execution_count": 2,
   "id": "5b1cf97f",
   "metadata": {},
   "outputs": [],
   "source": [
    "import matplotlib.pyplot as plt, seaborn as sns, numpy as np"
   ]
  },
  {
   "cell_type": "code",
   "execution_count": 3,
   "id": "6cc30959",
   "metadata": {},
   "outputs": [],
   "source": [
    "from sklearn.model_selection import train_test_split, GridSearchCV\n",
    "from sklearn.preprocessing import StandardScaler, OneHotEncoder\n",
    "from sklearn.metrics import mean_squared_error, r2_score, make_scorer\n",
    "from sklearn.linear_model import LinearRegression, Ridge, Lasso, ElasticNet\n",
    "from sklearn.feature_selection import SelectFromModel\n",
    "from sklearn.svm import SVR\n",
    "from sklearn.neural_network import MLPRegressor\n",
    "from sklearn.ensemble import RandomForestRegressor, AdaBoostRegressor, GradientBoostingRegressor\n",
    "from sklearn.tree import DecisionTreeRegressor\n",
    "from sklearn import dummy"
   ]
  },
  {
   "cell_type": "code",
   "execution_count": 4,
   "id": "b6e3e261",
   "metadata": {},
   "outputs": [],
   "source": [
    "import datetime, timeit"
   ]
  },
  {
   "cell_type": "code",
   "execution_count": 5,
   "id": "837d0bb4",
   "metadata": {},
   "outputs": [],
   "source": [
    "from IPython.display import clear_output"
   ]
  },
  {
   "cell_type": "code",
   "execution_count": 6,
   "id": "2a98a243",
   "metadata": {},
   "outputs": [],
   "source": [
    "import warnings\n",
    "warnings.simplefilter('ignore')"
   ]
  },
  {
   "cell_type": "markdown",
   "id": "c0e2d770",
   "metadata": {},
   "source": [
    "# <p style='text-align:center'>Fonctions</p>"
   ]
  },
  {
   "cell_type": "code",
   "execution_count": 393,
   "id": "b9f930ce",
   "metadata": {},
   "outputs": [],
   "source": [
    "def explained_variable(bench, var_name):\n",
    "    y_brut = bench[var_name]\n",
    "    y_log = y_brut.apply(lambda x : np.log(x))\n",
    "    return y_log\n",
    "\n",
    "def explanatory_variables(bench, nrj_score):\n",
    "    bench['total_gfa'] = bench['total_gfa'].apply(lambda x : np.log(x) if x!=0 else 0)\n",
    "    bench['building_gfa'] = bench['building_gfa'].apply(lambda x : np.log(x) if x!=0 else 0)\n",
    "    bench['parking_gfa'] = bench['parking_gfa'].apply(lambda x : np.log(x) if x!=0 else 0)\n",
    "    bench['lput_gfa'] = bench['lput_gfa'].apply(lambda x : np.log(x) if x!=0 else 0)\n",
    "    bench['sput_gfa'] = bench['sput_gfa'].apply(lambda x : np.log(x) if x!=0 else 0)\n",
    "    liste = ['age','nb','nf','building_gfa','parking_gfa','lput_gfa','sput_gfa', 'electricity_pct', 'natural_gas_pct', 'steam_pct']\n",
    "    listecat = ['district_code','type','lput','sput','electricity_bool','natural_gas_bool', 'steam_bool']\n",
    "    if (nrj_score):\n",
    "        liste = ['age','nb','nf','building_gfa','parking_gfa','lput_gfa','sput_gfa','electricity_pct', 'natural_gas_pct', 'steam_pct','energy_score']\n",
    "    Xnum = bench[liste].values\n",
    "    X_before_encoding = Xnum\n",
    "    enc = OneHotEncoder(handle_unknown='ignore')\n",
    "    Xcat = bench[listecat].values\n",
    "    Xenc = enc.fit_transform(Xcat).toarray()\n",
    "    X = np.concatenate((Xnum, Xenc),axis=1)\n",
    "    return X, X_before_encoding\n",
    "\n",
    "def standardize(X_train, X_test, y_train, y_test, n):\n",
    "    scaler = StandardScaler()\n",
    "    scaler.fit(X_train[:,0:n])\n",
    "    X_train_std = np.concatenate((scaler.transform(X_train[:,0:n]) , X_train[:,n:]),axis=1)\n",
    "    X_test_std = np.concatenate((scaler.transform(X_test[:,0:n]) , X_test[:,n:]),axis=1)\n",
    "    return X_train_std, X_test_std\n",
    "\n",
    "def get_time(start_time, end_time):\n",
    "    m = (end_time - start_time)//60\n",
    "    s = (end_time - start_time) - m*60\n",
    "    return m,s\n",
    "\n",
    "def squared_error(y_pred, y_true):\n",
    "    y = (y_true - y_pred)**2\n",
    "    return np.sqrt(y.sort_values(ascending = False))\n",
    "\n",
    "def model_vs_real(y_pred, y_true, exp_variable):\n",
    "    if exp_variable == 'ghg_emission':\n",
    "        gap = 100\n",
    "    else:\n",
    "        gap = 2*10**6\n",
    "    fig, ax = plt.subplots(figsize=(15,15))\n",
    "    ax.scatter(y_pred, y_true, label = 'model vs real')\n",
    "    ax.plot(y_true, y_true, linestyle = '--', color = 'r', label = 'perfect model')\n",
    "    ax.plot(y_true , y_true + gap, linestyle = '--', color = 'y', label = '+2x10^6')\n",
    "    ax.plot(y_true , y_true - gap, linestyle = '--', color = 'y', label = '-2x10^6')\n",
    "    ax.set_xlabel(\"y_pred\")\n",
    "    ax.set_ylabel(\"y_true\")\n",
    "    ax.set_title('Model VS Real')\n",
    "    ax.legend()\n",
    "    plt.show()\n",
    "\n",
    "def regularization_path(lambdas):\n",
    "    coeffs = []\n",
    "    for l in lambdas:\n",
    "        ridge = Ridge(alpha=l).fit(X_train_std, y_train)\n",
    "        coeffs.append([ridge.intercept_] + list(ridge.coef_))\n",
    "    coeff_lambdas = pd.DataFrame(coeffs,columns=[\"b_\" + str(i) for i in range(0,129)],index=lambdas)\n",
    "    fig, ax = plt.subplots(figsize=(15,15))\n",
    "    #[100,68,34,112,122,83,95,54,94,38,95,127,126,53,45,25,36,102,108]\n",
    "    for i in range(20):\n",
    "        idx = np.random.randint(0,128)\n",
    "        ax.plot(coeff_lambdas.index, coeff_lambdas.iloc[:,idx], label = 'beta_'+str(idx))\n",
    "    plt.legend()\n",
    "    ax.set_title('Chemins de régularisation',fontsize=18)\n",
    "#     ax.set_xscale('log')\n",
    "    ax.invert_xaxis()\n",
    "    plt.show()\n",
    "\n",
    "\n",
    "def regularization_path_lasso(lambdas):\n",
    "    coeffs = []\n",
    "    for l in lambdas:\n",
    "        lasso = Lasso(alpha=l)\n",
    "        lasso.fit(X_train_std, y_train)\n",
    "        coeffs.append([lasso.intercept_] + list(lasso.coef_))\n",
    "    coeff_lambdas = pd.DataFrame(coeffs,columns=[\"b_\" + str(i) for i in range(0,129)],index=lambdas)\n",
    "    fig, ax = plt.subplots(figsize=(15,15))\n",
    "    #[100,68,34,112,122,83,95,54,94,38,95,127,126,53,45,25,36,102,108]\n",
    "    for i in range(20):\n",
    "        idx = np.random.randint(1,128)\n",
    "        ax.plot(coeff_lambdas.index, coeff_lambdas.iloc[:,idx], label = 'beta_'+str(idx))\n",
    "    plt.legend()\n",
    "    ax.set_title('Chemins de régularisation',fontsize=18)\n",
    "    # ax.set_yscale('log')\n",
    "    ax.invert_xaxis()\n",
    "    plt.show()\n",
    "\n",
    "def show_metric(y_pred_train, y_train, y_pred_test, y_test, time):\n",
    "    y_train_exp = [np.exp(x) for x in y_train]\n",
    "    y_test_exp = [np.exp(x) for x in y_test]\n",
    "    train_error = mean_squared_error(y_pred_train,y_train_exp,squared=False)\n",
    "    test_error = mean_squared_error(y_pred_test,y_test_exp,squared=False)\n",
    "    train_r2 = r2_score(y_train_exp,y_pred_train)\n",
    "    test_r2 = r2_score(y_test_exp,y_pred_test)\n",
    "    met = pd.DataFrame(data = [[train_error, test_error, train_r2, test_r2, time]], columns = [\"RMSE_train\",\"RMSE_test\",\"R2_train\",\"R2_test\",\"TIME\"], index=[\"valeur\"])\n",
    "    display(met)\n",
    "    return train_error, test_error, train_r2, test_r2, time\n",
    "\n",
    "def show_best_param(best_params):\n",
    "    display(pd.DataFrame(best_params,index=['value']))\n",
    "\n",
    "def adjusted_r2(y, y_pred,n,p):\n",
    "#     adjusted_r2_scorer = make_scorer(adjusted_r2,n=X.shape[0],p=X.shape[1])\n",
    "    return 1-(1-r2_score(y, y_pred))*((n-1)/(n-p))\n",
    "\n",
    "def lin_fit(X,y):\n",
    "    n, p = X.shape[0], X.shape[1]\n",
    "    X_1 = np.concatenate((np.ones((n,1)),X),axis=1)\n",
    "    beta = np.matmul(np.matmul(np.linalg.pinv(np.matmul(np.transpose(X_1),X_1)),np.transpose(X_1)),y)\n",
    "    return beta\n",
    "\n",
    "def lin_predict(X,beta):\n",
    "    n=X.shape[0]\n",
    "    X_1 = np.concatenate((np.ones((n,1)),X),axis=1)\n",
    "    y_pred = np.matmul(X_1,beta)\n",
    "    return y_pred\n",
    "\n",
    "def make_results():\n",
    "    resultats = pd.DataFrame(columns=['Target']+liste_model)\n",
    "    resultats.at[0,'Target'] = 'energy_use'\n",
    "    resultats.at[1,'Target'] = 'ghg_emission'\n",
    "    return resultats\n",
    "\n",
    "def save_results(train_error,test_error,train_r2,test_r2,time,exp_variable,model):\n",
    "    resultats_r2_train.loc[resultats_r2_train['Target']==exp_variable,model] = train_r2\n",
    "    resultats_r2_test.loc[resultats_r2_test['Target']==exp_variable,model] = test_r2\n",
    "    resultats_rmse_train.loc[resultats_r2_test['Target']==exp_variable,model] = train_error\n",
    "    resultats_rmse_test.loc[resultats_r2_test['Target']==exp_variable,model] = test_error\n",
    "    resultats_time.loc[resultats_r2_test['Target']==exp_variable,model] = \"(\"+str(time[0])+\", \"+str(time[1])+\")\""
   ]
  },
  {
   "cell_type": "markdown",
   "id": "bb513588",
   "metadata": {},
   "source": [
    "# <p style='text-align:center'>Paramètres</p>"
   ]
  },
  {
   "cell_type": "code",
   "execution_count": 378,
   "id": "63d2573f",
   "metadata": {},
   "outputs": [],
   "source": [
    "nrj_score = False\n",
    "feature_select = False\n",
    "exp_variable = \"ghg_emission\"\n",
    "liste_model = ['Regression simple', 'Regression Ridge', 'Regression Lasso', 'Regression Elastic Net', 'Linear SVR', 'MLP Regression', 'Random Forest', 'GradientBoost', 'Dummy (MEAN)']"
   ]
  },
  {
   "cell_type": "markdown",
   "id": "4fcd87a4",
   "metadata": {},
   "source": [
    "# <p style='text-align:center'>Features Engineering </p>"
   ]
  },
  {
   "cell_type": "code",
   "execution_count": 379,
   "id": "2211c486",
   "metadata": {},
   "outputs": [],
   "source": [
    "bench = pd.read_excel(\"benchmark_cleaned.xlsx\")\n",
    "\n",
    "X, X_before_encoding = explanatory_variables(bench, nrj_score)\n",
    "\n",
    "y = explained_variable(bench = bench, var_name = exp_variable)\n",
    "\n",
    "X_train, X_test, y_train, y_test = train_test_split(X, y, test_size=0.33, random_state=5)\n",
    "\n",
    "X_train_std, X_test_std = standardize(X_train, X_test, y_train, y_test, X_before_encoding.shape[1])"
   ]
  },
  {
   "cell_type": "markdown",
   "id": "1d1cdc4f",
   "metadata": {},
   "source": [
    "# <p style='text-align:center'> Simple Linear Regression </p>"
   ]
  },
  {
   "cell_type": "code",
   "execution_count": 339,
   "id": "29e319b7",
   "metadata": {},
   "outputs": [
    {
     "data": {
      "text/html": [
       "<div>\n",
       "<style scoped>\n",
       "    .dataframe tbody tr th:only-of-type {\n",
       "        vertical-align: middle;\n",
       "    }\n",
       "\n",
       "    .dataframe tbody tr th {\n",
       "        vertical-align: top;\n",
       "    }\n",
       "\n",
       "    .dataframe thead th {\n",
       "        text-align: right;\n",
       "    }\n",
       "</style>\n",
       "<table border=\"1\" class=\"dataframe\">\n",
       "  <thead>\n",
       "    <tr style=\"text-align: right;\">\n",
       "      <th></th>\n",
       "      <th>RMSE_train</th>\n",
       "      <th>RMSE_test</th>\n",
       "      <th>R2_train</th>\n",
       "      <th>R2_test</th>\n",
       "      <th>TIME</th>\n",
       "    </tr>\n",
       "  </thead>\n",
       "  <tbody>\n",
       "    <tr>\n",
       "      <th>valeur</th>\n",
       "      <td>64.33217</td>\n",
       "      <td>87.46829</td>\n",
       "      <td>0.69151</td>\n",
       "      <td>0.45418</td>\n",
       "      <td>(0.0, 0.024837699995259754)</td>\n",
       "    </tr>\n",
       "  </tbody>\n",
       "</table>\n",
       "</div>"
      ],
      "text/plain": [
       "        RMSE_train  RMSE_test  R2_train  R2_test                         TIME\n",
       "valeur    64.33217   87.46829   0.69151  0.45418  (0.0, 0.024837699995259754)"
      ]
     },
     "metadata": {},
     "output_type": "display_data"
    },
    {
     "data": {
      "text/plain": [
       "-14513.661687832751"
      ]
     },
     "metadata": {},
     "output_type": "display_data"
    }
   ],
   "source": [
    "# Regression Linéaire Simple\n",
    "\n",
    "start_time = timeit.default_timer()\n",
    "\n",
    "beta = lin_fit(X_train_std, y_train)\n",
    "y_pred_train_simple, y_pred_test_simple  = lin_predict(X_train_std,beta), lin_predict(X_test_std,beta)\n",
    "\n",
    "#Inversion du passage au log\n",
    "y_pred_train_simple, y_pred_test_simple = [np.exp(x) for x in y_pred_train_simple],[np.exp(x) for x in y_pred_test_simple]\n",
    "\n",
    "end_time = timeit.default_timer()\n",
    "\n",
    "time_simple= get_time(start_time, end_time)\n",
    "\n",
    "train_error_simple, test_error_simple, train_r2_simple, test_r2_simple, time_simple = show_metric(y_pred_train_simple, y_train, y_pred_test_simple, y_test, time_simple)"
   ]
  },
  {
   "cell_type": "code",
   "execution_count": 340,
   "id": "87effa9e",
   "metadata": {},
   "outputs": [],
   "source": [
    "# save_results(train_error_simple, test_error_simple, train_r2_simple, test_r2_simple, time_simple, exp_variable,'Regression simple')"
   ]
  },
  {
   "cell_type": "markdown",
   "id": "75d6fe45",
   "metadata": {},
   "source": [
    "# <p style='text-align:center'> Ridge Linear Regression </p>"
   ]
  },
  {
   "cell_type": "code",
   "execution_count": 341,
   "id": "0a5167b9",
   "metadata": {},
   "outputs": [
    {
     "data": {
      "text/html": [
       "<div>\n",
       "<style scoped>\n",
       "    .dataframe tbody tr th:only-of-type {\n",
       "        vertical-align: middle;\n",
       "    }\n",
       "\n",
       "    .dataframe tbody tr th {\n",
       "        vertical-align: top;\n",
       "    }\n",
       "\n",
       "    .dataframe thead th {\n",
       "        text-align: right;\n",
       "    }\n",
       "</style>\n",
       "<table border=\"1\" class=\"dataframe\">\n",
       "  <thead>\n",
       "    <tr style=\"text-align: right;\">\n",
       "      <th></th>\n",
       "      <th>RMSE_train</th>\n",
       "      <th>RMSE_test</th>\n",
       "      <th>R2_train</th>\n",
       "      <th>R2_test</th>\n",
       "      <th>TIME</th>\n",
       "    </tr>\n",
       "  </thead>\n",
       "  <tbody>\n",
       "    <tr>\n",
       "      <th>valeur</th>\n",
       "      <td>64.58277</td>\n",
       "      <td>81.21935</td>\n",
       "      <td>0.6891</td>\n",
       "      <td>0.52938</td>\n",
       "      <td>(0.0, 0.30600609999964945)</td>\n",
       "    </tr>\n",
       "  </tbody>\n",
       "</table>\n",
       "</div>"
      ],
      "text/plain": [
       "        RMSE_train  RMSE_test  R2_train  R2_test                        TIME\n",
       "valeur    64.58277   81.21935    0.6891  0.52938  (0.0, 0.30600609999964945)"
      ]
     },
     "metadata": {},
     "output_type": "display_data"
    },
    {
     "data": {
      "text/html": [
       "<div>\n",
       "<style scoped>\n",
       "    .dataframe tbody tr th:only-of-type {\n",
       "        vertical-align: middle;\n",
       "    }\n",
       "\n",
       "    .dataframe tbody tr th {\n",
       "        vertical-align: top;\n",
       "    }\n",
       "\n",
       "    .dataframe thead th {\n",
       "        text-align: right;\n",
       "    }\n",
       "</style>\n",
       "<table border=\"1\" class=\"dataframe\">\n",
       "  <thead>\n",
       "    <tr style=\"text-align: right;\">\n",
       "      <th></th>\n",
       "      <th>alpha</th>\n",
       "    </tr>\n",
       "  </thead>\n",
       "  <tbody>\n",
       "    <tr>\n",
       "      <th>value</th>\n",
       "      <td>1.0</td>\n",
       "    </tr>\n",
       "  </tbody>\n",
       "</table>\n",
       "</div>"
      ],
      "text/plain": [
       "       alpha\n",
       "value    1.0"
      ]
     },
     "metadata": {},
     "output_type": "display_data"
    }
   ],
   "source": [
    "# Regression linéaire Ridge\n",
    "\n",
    "start_time = timeit.default_timer()\n",
    "\n",
    "cv_ridge_params_ghg = {'alpha' : np.logspace(-4,4,9)}\n",
    "cv_ridge_params_nrj = {'alpha' : np.logspace(-4,4,9)}\n",
    "    \n",
    "ridge_param_choice = {'ridge_ghg_emission' : cv_ridge_params_ghg,'ridge_energy_use' : cv_ridge_params_nrj}\n",
    "\n",
    "cv_ridge_params = ridge_param_choice['ridge_' + exp_variable]\n",
    "\n",
    "cv_ridge = GridSearchCV(Ridge(), cv_ridge_params, cv=5, scoring='neg_root_mean_squared_error')\n",
    "cv_ridge.fit(X_train_std, y_train)\n",
    "\n",
    "ridge = Ridge(alpha=cv_ridge.best_params_['alpha'])\n",
    "ridge.fit(X_train_std, y_train)\n",
    "y_pred_train_ridge, y_pred_test_ridge = ridge.predict(X_train_std), ridge.predict(X_test_std)\n",
    "\n",
    "# Inversion du passage au log\n",
    "y_pred_train_ridge, y_pred_test_ridge = [np.exp(x) for x in y_pred_train_ridge],[np.exp(x) for x in y_pred_test_ridge]\n",
    "\n",
    "end_time = timeit.default_timer()\n",
    "\n",
    "time_ridge = get_time(start_time, end_time)\n",
    "\n",
    "train_error_ridge, test_error_ridge, train_r2_ridge, test_r2_ridge, time_ridge = show_metric(y_pred_train_ridge, y_train, y_pred_test_ridge, y_test, time_ridge)\n",
    "show_best_param(cv_ridge.best_params_)"
   ]
  },
  {
   "cell_type": "code",
   "execution_count": 343,
   "id": "73506e86",
   "metadata": {},
   "outputs": [],
   "source": [
    "# save_results(train_error_ridge, test_error_ridge, train_r2_ridge, test_r2_ridge, time_ridge, exp_variable,'Regression Ridge')"
   ]
  },
  {
   "cell_type": "code",
   "execution_count": 215,
   "id": "7681f8e8",
   "metadata": {},
   "outputs": [
    {
     "data": {
      "image/png": "[encoded data removed]",
      "text/plain": [
       "<Figure size 1080x1080 with 1 Axes>"
      ]
     },
     "metadata": {
      "needs_background": "light"
     },
     "output_type": "display_data"
    }
   ],
   "source": [
    "regularization_path(np.linspace(1,1000,100))"
   ]
  },
  {
   "cell_type": "code",
   "execution_count": 109,
   "id": "7e54aec9",
   "metadata": {},
   "outputs": [],
   "source": [
    "# model_vs_real(y_pred_test_ridge, y_test, exp_variable)"
   ]
  },
  {
   "cell_type": "markdown",
   "id": "d9a983a3",
   "metadata": {},
   "source": [
    "# <p style='text-align:center'> Lasso Linear Regression </p>"
   ]
  },
  {
   "cell_type": "code",
   "execution_count": 344,
   "id": "1a8a1fb0",
   "metadata": {},
   "outputs": [
    {
     "data": {
      "text/html": [
       "<div>\n",
       "<style scoped>\n",
       "    .dataframe tbody tr th:only-of-type {\n",
       "        vertical-align: middle;\n",
       "    }\n",
       "\n",
       "    .dataframe tbody tr th {\n",
       "        vertical-align: top;\n",
       "    }\n",
       "\n",
       "    .dataframe thead th {\n",
       "        text-align: right;\n",
       "    }\n",
       "</style>\n",
       "<table border=\"1\" class=\"dataframe\">\n",
       "  <thead>\n",
       "    <tr style=\"text-align: right;\">\n",
       "      <th></th>\n",
       "      <th>RMSE_train</th>\n",
       "      <th>RMSE_test</th>\n",
       "      <th>R2_train</th>\n",
       "      <th>R2_test</th>\n",
       "      <th>TIME</th>\n",
       "    </tr>\n",
       "  </thead>\n",
       "  <tbody>\n",
       "    <tr>\n",
       "      <th>valeur</th>\n",
       "      <td>64.26147</td>\n",
       "      <td>84.21092</td>\n",
       "      <td>0.69218</td>\n",
       "      <td>0.49408</td>\n",
       "      <td>(0.0, 1.538251300007687)</td>\n",
       "    </tr>\n",
       "  </tbody>\n",
       "</table>\n",
       "</div>"
      ],
      "text/plain": [
       "        RMSE_train  RMSE_test  R2_train  R2_test                      TIME\n",
       "valeur    64.26147   84.21092   0.69218  0.49408  (0.0, 1.538251300007687)"
      ]
     },
     "metadata": {},
     "output_type": "display_data"
    },
    {
     "data": {
      "text/html": [
       "<div>\n",
       "<style scoped>\n",
       "    .dataframe tbody tr th:only-of-type {\n",
       "        vertical-align: middle;\n",
       "    }\n",
       "\n",
       "    .dataframe tbody tr th {\n",
       "        vertical-align: top;\n",
       "    }\n",
       "\n",
       "    .dataframe thead th {\n",
       "        text-align: right;\n",
       "    }\n",
       "</style>\n",
       "<table border=\"1\" class=\"dataframe\">\n",
       "  <thead>\n",
       "    <tr style=\"text-align: right;\">\n",
       "      <th></th>\n",
       "      <th>alpha</th>\n",
       "    </tr>\n",
       "  </thead>\n",
       "  <tbody>\n",
       "    <tr>\n",
       "      <th>value</th>\n",
       "      <td>0.0001</td>\n",
       "    </tr>\n",
       "  </tbody>\n",
       "</table>\n",
       "</div>"
      ],
      "text/plain": [
       "        alpha\n",
       "value  0.0001"
      ]
     },
     "metadata": {},
     "output_type": "display_data"
    }
   ],
   "source": [
    "# Regression linéaire Lasso\n",
    "\n",
    "start_time = timeit.default_timer()\n",
    "\n",
    "cv_lasso_params_ghg = {'alpha':np.logspace(-4,4,9)}\n",
    "cv_lasso_params_nrj = {'alpha':np.logspace(-4,4,9)}\n",
    "\n",
    "lasso_param_choice = {'lasso_ghg_emission':cv_lasso_params_ghg, 'lasso_energy_use':cv_lasso_params_nrj}\n",
    "\n",
    "cv_lasso_params = lasso_param_choice['lasso_' + exp_variable]\n",
    "\n",
    "cv_lasso = GridSearchCV(Lasso(fit_intercept=True),cv_lasso_params,cv=5,scoring='neg_root_mean_squared_error')\n",
    "cv_lasso.fit(X_train_std, y_train)\n",
    "\n",
    "lasso = Lasso(alpha=cv_lasso.best_params_['alpha'], fit_intercept=True)\n",
    "lasso.fit(X_train_std, y_train)\n",
    "y_pred_train_lasso, y_pred_test_lasso = lasso.predict(X_train_std), lasso.predict(X_test_std)\n",
    "\n",
    "# Inversion du passage au log\n",
    "y_pred_train_lasso, y_pred_test_lasso = [np.exp(x) for x in y_pred_train_lasso],[np.exp(x) for x in y_pred_test_lasso]\n",
    "\n",
    "end_time = timeit.default_timer()\n",
    "\n",
    "time_lasso = get_time(start_time, end_time)\n",
    "\n",
    "train_error_lasso, test_error_lasso, train_r2_lasso, test_r2_lasso, time_lasso = show_metric(y_pred_train_lasso, y_train, y_pred_test_lasso, y_test, time_lasso)\n",
    "show_best_param(cv_lasso.best_params_)"
   ]
  },
  {
   "cell_type": "code",
   "execution_count": 345,
   "id": "2217864c",
   "metadata": {},
   "outputs": [],
   "source": [
    "# save_results(train_error_lasso, test_error_lasso, train_r2_lasso, test_r2_lasso, time_lasso, exp_variable,'Regression Lasso')"
   ]
  },
  {
   "cell_type": "code",
   "execution_count": 251,
   "id": "63f3b5e3",
   "metadata": {},
   "outputs": [
    {
     "data": {
      "image/png": "[encoded data removed]",
      "text/plain": [
       "<Figure size 1080x1080 with 1 Axes>"
      ]
     },
     "metadata": {
      "needs_background": "light"
     },
     "output_type": "display_data"
    }
   ],
   "source": [
    "lambdas = np.logspace(-4,-2,500)\n",
    "regularization_path_lasso(lambdas)"
   ]
  },
  {
   "cell_type": "code",
   "execution_count": 111,
   "id": "bb9723d6",
   "metadata": {},
   "outputs": [],
   "source": [
    "# model_vs_real(y_pred_test_lasso, y_test, exp_variable)"
   ]
  },
  {
   "cell_type": "markdown",
   "id": "30798f0d",
   "metadata": {},
   "source": [
    "# <p style='text-align:center'> Elastic Net Linear Regression </p>"
   ]
  },
  {
   "cell_type": "code",
   "execution_count": 375,
   "id": "83389dd6",
   "metadata": {},
   "outputs": [
    {
     "data": {
      "text/html": [
       "<div>\n",
       "<style scoped>\n",
       "    .dataframe tbody tr th:only-of-type {\n",
       "        vertical-align: middle;\n",
       "    }\n",
       "\n",
       "    .dataframe tbody tr th {\n",
       "        vertical-align: top;\n",
       "    }\n",
       "\n",
       "    .dataframe thead th {\n",
       "        text-align: right;\n",
       "    }\n",
       "</style>\n",
       "<table border=\"1\" class=\"dataframe\">\n",
       "  <thead>\n",
       "    <tr style=\"text-align: right;\">\n",
       "      <th></th>\n",
       "      <th>RMSE_train</th>\n",
       "      <th>RMSE_test</th>\n",
       "      <th>R2_train</th>\n",
       "      <th>R2_test</th>\n",
       "      <th>TIME</th>\n",
       "    </tr>\n",
       "  </thead>\n",
       "  <tbody>\n",
       "    <tr>\n",
       "      <th>valeur</th>\n",
       "      <td>2.59831e+06</td>\n",
       "      <td>3.06016e+06</td>\n",
       "      <td>0.70249</td>\n",
       "      <td>0.55927</td>\n",
       "      <td>(0.0, 7.959315200001583)</td>\n",
       "    </tr>\n",
       "  </tbody>\n",
       "</table>\n",
       "</div>"
      ],
      "text/plain": [
       "         RMSE_train    RMSE_test  R2_train  R2_test                      TIME\n",
       "valeur  2.59831e+06  3.06016e+06   0.70249  0.55927  (0.0, 7.959315200001583)"
      ]
     },
     "metadata": {},
     "output_type": "display_data"
    },
    {
     "data": {
      "text/html": [
       "<div>\n",
       "<style scoped>\n",
       "    .dataframe tbody tr th:only-of-type {\n",
       "        vertical-align: middle;\n",
       "    }\n",
       "\n",
       "    .dataframe tbody tr th {\n",
       "        vertical-align: top;\n",
       "    }\n",
       "\n",
       "    .dataframe thead th {\n",
       "        text-align: right;\n",
       "    }\n",
       "</style>\n",
       "<table border=\"1\" class=\"dataframe\">\n",
       "  <thead>\n",
       "    <tr style=\"text-align: right;\">\n",
       "      <th></th>\n",
       "      <th>alpha</th>\n",
       "      <th>l1_ratio</th>\n",
       "    </tr>\n",
       "  </thead>\n",
       "  <tbody>\n",
       "    <tr>\n",
       "      <th>value</th>\n",
       "      <td>0.00139</td>\n",
       "      <td>0.0001</td>\n",
       "    </tr>\n",
       "  </tbody>\n",
       "</table>\n",
       "</div>"
      ],
      "text/plain": [
       "         alpha  l1_ratio\n",
       "value  0.00139    0.0001"
      ]
     },
     "metadata": {},
     "output_type": "display_data"
    }
   ],
   "source": [
    "# Regression linéaire Elastic Net\n",
    "\n",
    "start_time = timeit.default_timer()\n",
    "\n",
    "cv_elastic_params_ghg = {'alpha':np.logspace(-4,4,8),'l1_ratio':np.logspace(-4,4,8)}\n",
    "cv_elastic_params_nrj = {'alpha':np.logspace(-4,4,8),'l1_ratio':np.logspace(-4,4,8)}\n",
    "\n",
    "elastic_param_choice = {'elastic_ghg_emission':cv_elastic_params_ghg,'elastic_energy_use':cv_elastic_params_nrj}\n",
    "\n",
    "cv_elastic_params = elastic_param_choice['elastic_' + exp_variable]\n",
    "\n",
    "cv_elastic = GridSearchCV(ElasticNet(), cv_elastic_params, cv=5, scoring='neg_root_mean_squared_error')\n",
    "cv_elastic.fit(X_train_std, y_train)\n",
    "\n",
    "elastic = ElasticNet(alpha = cv_elastic.best_params_['alpha'], l1_ratio = cv_elastic.best_params_['l1_ratio'], random_state=0)\n",
    "\n",
    "elastic.fit(X_train_std, y_train)\n",
    "y_pred_train_elastic, y_pred_test_elastic = elastic.predict(X_train_std), elastic.predict(X_test_std)\n",
    "\n",
    "# Inversion du passage au log\n",
    "y_pred_train_elastic, y_pred_test_elastic = [np.exp(x) for x in y_pred_train_elastic],[np.exp(x) for x in y_pred_test_elastic]\n",
    "\n",
    "end_time = timeit.default_timer()\n",
    "\n",
    "time_elastic = get_time(start_time, end_time)\n",
    "train_error_elastic, test_error_elastic, train_r2_elastic, test_r2_elastic, time_elastic = show_metric(y_pred_train_elastic, y_train, y_pred_test_elastic, y_test, time_elastic)\n",
    "show_best_param(cv_elastic.best_params_)"
   ]
  },
  {
   "cell_type": "code",
   "execution_count": 376,
   "id": "1fb6bad2",
   "metadata": {},
   "outputs": [],
   "source": [
    "# save_results(train_error_elastic, test_error_elastic, train_r2_elastic, test_r2_elastic, time_elastic, exp_variable,'Regression Elastic Net')"
   ]
  },
  {
   "cell_type": "code",
   "execution_count": 194,
   "id": "e28aa8a4",
   "metadata": {},
   "outputs": [],
   "source": [
    "# model_vs_real(y_pred_test_elastic, y_test, exp_variable)"
   ]
  },
  {
   "cell_type": "markdown",
   "id": "05d2779c",
   "metadata": {},
   "source": [
    "# <p style='text-align:center'> Support Vector Regressor </p>"
   ]
  },
  {
   "cell_type": "code",
   "execution_count": 352,
   "id": "92d6200d",
   "metadata": {},
   "outputs": [
    {
     "data": {
      "text/html": [
       "<div>\n",
       "<style scoped>\n",
       "    .dataframe tbody tr th:only-of-type {\n",
       "        vertical-align: middle;\n",
       "    }\n",
       "\n",
       "    .dataframe tbody tr th {\n",
       "        vertical-align: top;\n",
       "    }\n",
       "\n",
       "    .dataframe thead th {\n",
       "        text-align: right;\n",
       "    }\n",
       "</style>\n",
       "<table border=\"1\" class=\"dataframe\">\n",
       "  <thead>\n",
       "    <tr style=\"text-align: right;\">\n",
       "      <th></th>\n",
       "      <th>RMSE_train</th>\n",
       "      <th>RMSE_test</th>\n",
       "      <th>R2_train</th>\n",
       "      <th>R2_test</th>\n",
       "      <th>TIME</th>\n",
       "    </tr>\n",
       "  </thead>\n",
       "  <tbody>\n",
       "    <tr>\n",
       "      <th>valeur</th>\n",
       "      <td>55.86319</td>\n",
       "      <td>76.28294</td>\n",
       "      <td>0.76738</td>\n",
       "      <td>0.58485</td>\n",
       "      <td>(0.0, 20.887200499986648)</td>\n",
       "    </tr>\n",
       "  </tbody>\n",
       "</table>\n",
       "</div>"
      ],
      "text/plain": [
       "        RMSE_train  RMSE_test  R2_train  R2_test                       TIME\n",
       "valeur    55.86319   76.28294   0.76738  0.58485  (0.0, 20.887200499986648)"
      ]
     },
     "metadata": {},
     "output_type": "display_data"
    },
    {
     "data": {
      "text/html": [
       "<div>\n",
       "<style scoped>\n",
       "    .dataframe tbody tr th:only-of-type {\n",
       "        vertical-align: middle;\n",
       "    }\n",
       "\n",
       "    .dataframe tbody tr th {\n",
       "        vertical-align: top;\n",
       "    }\n",
       "\n",
       "    .dataframe thead th {\n",
       "        text-align: right;\n",
       "    }\n",
       "</style>\n",
       "<table border=\"1\" class=\"dataframe\">\n",
       "  <thead>\n",
       "    <tr style=\"text-align: right;\">\n",
       "      <th></th>\n",
       "      <th>C</th>\n",
       "      <th>degree</th>\n",
       "      <th>kernel</th>\n",
       "    </tr>\n",
       "  </thead>\n",
       "  <tbody>\n",
       "    <tr>\n",
       "      <th>value</th>\n",
       "      <td>1</td>\n",
       "      <td>2</td>\n",
       "      <td>poly</td>\n",
       "    </tr>\n",
       "  </tbody>\n",
       "</table>\n",
       "</div>"
      ],
      "text/plain": [
       "       C  degree kernel\n",
       "value  1       2   poly"
      ]
     },
     "metadata": {},
     "output_type": "display_data"
    }
   ],
   "source": [
    "start_time = timeit.default_timer()\n",
    "\n",
    "cv_svr_params_ghg = {'C' : [0.01,0.1,1],'degree':[2,3,4], 'kernel' : ['linear','poly']}\n",
    "cv_svr_params_nrj = {'C' : [0.01,0.1,1],'degree':[1], 'kernel' : ['linear']}\n",
    "\n",
    "svr_param_choice = {'svr_ghg_emission':cv_svr_params_ghg, 'svr_energy_use':cv_svr_params_nrj}\n",
    "\n",
    "cv_svr_params = svr_param_choice['svr_' + exp_variable]\n",
    "\n",
    "cv_svr = GridSearchCV(SVR(kernel = 'linear'), cv_svr_params, cv=5, scoring='neg_root_mean_squared_error')\n",
    "\n",
    "cv_svr.fit(X_train_std, y_train)\n",
    "\n",
    "svr = SVR(kernel = cv_svr.best_params_[\"kernel\"], C=cv_svr.best_params_[\"C\"], degree = cv_svr.best_params_[\"degree\"])\n",
    "svr.fit(X_train_std, y_train)\n",
    "y_pred_train_svr, y_pred_test_svr = svr.predict(X_train_std), svr.predict(X_test_std)\n",
    "\n",
    "# Inversion du passage au log\n",
    "y_pred_train_svr, y_pred_test_svr = [np.exp(x) for x in y_pred_train_svr],[np.exp(x) for x in y_pred_test_svr]\n",
    "\n",
    "end_time = timeit.default_timer()\n",
    "\n",
    "time_svr = get_time(start_time, end_time)\n",
    "train_error_svr, test_error_svr, train_r2_svr, test_r2_svr, time_svr = show_metric(y_pred_train_svr, y_train, y_pred_test_svr, y_test, time_svr)\n",
    "show_best_param(cv_svr.best_params_)"
   ]
  },
  {
   "cell_type": "code",
   "execution_count": 353,
   "id": "848fcd02",
   "metadata": {},
   "outputs": [],
   "source": [
    "# save_results(train_error_svr, test_error_svr, train_r2_svr, test_r2_svr, time_svr, exp_variable, 'Linear SVR')"
   ]
  },
  {
   "cell_type": "code",
   "execution_count": 120,
   "id": "876363a7",
   "metadata": {},
   "outputs": [],
   "source": [
    "# model_vs_real(y_pred_test_svr, y_test, 'ghg_emission')"
   ]
  },
  {
   "cell_type": "markdown",
   "id": "da79ac2c",
   "metadata": {},
   "source": [
    "# <p style='text-align:center'> MLP Regressor </p>"
   ]
  },
  {
   "cell_type": "code",
   "execution_count": 354,
   "id": "adae0196",
   "metadata": {
    "scrolled": true
   },
   "outputs": [
    {
     "data": {
      "text/html": [
       "<div>\n",
       "<style scoped>\n",
       "    .dataframe tbody tr th:only-of-type {\n",
       "        vertical-align: middle;\n",
       "    }\n",
       "\n",
       "    .dataframe tbody tr th {\n",
       "        vertical-align: top;\n",
       "    }\n",
       "\n",
       "    .dataframe thead th {\n",
       "        text-align: right;\n",
       "    }\n",
       "</style>\n",
       "<table border=\"1\" class=\"dataframe\">\n",
       "  <thead>\n",
       "    <tr style=\"text-align: right;\">\n",
       "      <th></th>\n",
       "      <th>RMSE_train</th>\n",
       "      <th>RMSE_test</th>\n",
       "      <th>R2_train</th>\n",
       "      <th>R2_test</th>\n",
       "      <th>TIME</th>\n",
       "    </tr>\n",
       "  </thead>\n",
       "  <tbody>\n",
       "    <tr>\n",
       "      <th>valeur</th>\n",
       "      <td>13.60026</td>\n",
       "      <td>81.8797</td>\n",
       "      <td>0.98621</td>\n",
       "      <td>0.5217</td>\n",
       "      <td>(4.0, 45.277333099991665)</td>\n",
       "    </tr>\n",
       "  </tbody>\n",
       "</table>\n",
       "</div>"
      ],
      "text/plain": [
       "        RMSE_train  RMSE_test  R2_train  R2_test                       TIME\n",
       "valeur    13.60026    81.8797   0.98621   0.5217  (4.0, 45.277333099991665)"
      ]
     },
     "metadata": {},
     "output_type": "display_data"
    },
    {
     "data": {
      "text/html": [
       "<div>\n",
       "<style scoped>\n",
       "    .dataframe tbody tr th:only-of-type {\n",
       "        vertical-align: middle;\n",
       "    }\n",
       "\n",
       "    .dataframe tbody tr th {\n",
       "        vertical-align: top;\n",
       "    }\n",
       "\n",
       "    .dataframe thead th {\n",
       "        text-align: right;\n",
       "    }\n",
       "</style>\n",
       "<table border=\"1\" class=\"dataframe\">\n",
       "  <thead>\n",
       "    <tr style=\"text-align: right;\">\n",
       "      <th></th>\n",
       "      <th>alpha</th>\n",
       "      <th>hidden_layer_sizes</th>\n",
       "    </tr>\n",
       "  </thead>\n",
       "  <tbody>\n",
       "    <tr>\n",
       "      <th>value</th>\n",
       "      <td>1</td>\n",
       "      <td>80</td>\n",
       "    </tr>\n",
       "  </tbody>\n",
       "</table>\n",
       "</div>"
      ],
      "text/plain": [
       "       alpha  hidden_layer_sizes\n",
       "value      1                  80"
      ]
     },
     "metadata": {},
     "output_type": "display_data"
    }
   ],
   "source": [
    "start_time = timeit.default_timer()\n",
    "\n",
    "cv_mlp_params_ghg = {'hidden_layer_sizes':[30,50,80,100],'alpha':[0.01,0.1,1,10,100]}\n",
    "cv_mlp_params_nrj = {'hidden_layer_sizes':[30,50,80,100],'alpha':[1,10,100]}\n",
    "\n",
    "mlp_param_choice = {'mlp_ghg_emission':cv_mlp_params_ghg, 'mlp_energy_use':cv_mlp_params_nrj}\n",
    "\n",
    "cv_mlp_params = mlp_param_choice['mlp_' + exp_variable]\n",
    "\n",
    "cv_mlp = GridSearchCV(MLPRegressor(solver = 'lbfgs', max_iter = 500, early_stopping = True, learning_rate='adaptive',random_state=40),\n",
    "                   cv_mlp_params,\n",
    "                   cv=5,\n",
    "                   scoring='neg_root_mean_squared_error')\n",
    "\n",
    "cv_mlp.fit(X_train_std, y_train)\n",
    "\n",
    "regr = MLPRegressor(solver = 'lbfgs', \n",
    "                    hidden_layer_sizes = cv_mlp.best_params_['hidden_layer_sizes'],\n",
    "                    max_iter = 500,\n",
    "                    alpha = cv_mlp.best_params_['alpha'],\n",
    "                    early_stopping = True,\n",
    "                    learning_rate='adaptive',random_state=90).fit(X_train_std, y_train)\n",
    "y_pred_train_mlp, y_pred_test_mlp = regr.predict(X_train_std), regr.predict(X_test_std)\n",
    "\n",
    "# Inversion du passage au log\n",
    "y_pred_train_mlp, y_pred_test_mlp = [np.exp(x) for x in y_pred_train_mlp],[np.exp(x) for x in y_pred_test_mlp]\n",
    "\n",
    "end_time = timeit.default_timer()\n",
    "\n",
    "time_mlp= get_time(start_time, end_time)\n",
    "train_error_mlp, test_error_mlp, train_r2_mlp, test_r2_mlp, time_mlp = show_metric(y_pred_train_mlp, y_train, y_pred_test_mlp, y_test, time_mlp)\n",
    "show_best_param(cv_mlp.best_params_)"
   ]
  },
  {
   "cell_type": "code",
   "execution_count": 355,
   "id": "0b8a0d86",
   "metadata": {},
   "outputs": [],
   "source": [
    "# save_results(train_error_mlp, test_error_mlp, train_r2_mlp, test_r2_mlp, time_mlp, exp_variable, 'MLP Regression')"
   ]
  },
  {
   "cell_type": "code",
   "execution_count": 356,
   "id": "f2cea6ed",
   "metadata": {},
   "outputs": [],
   "source": [
    "# model_vs_real(y_pred_test_mlp, y_test, exp_variable)"
   ]
  },
  {
   "cell_type": "markdown",
   "id": "c4a3a174",
   "metadata": {},
   "source": [
    "# <p style='text-align:center'> Random Forest </p>"
   ]
  },
  {
   "cell_type": "code",
   "execution_count": 362,
   "id": "1cf10f34",
   "metadata": {},
   "outputs": [
    {
     "data": {
      "text/html": [
       "<div>\n",
       "<style scoped>\n",
       "    .dataframe tbody tr th:only-of-type {\n",
       "        vertical-align: middle;\n",
       "    }\n",
       "\n",
       "    .dataframe tbody tr th {\n",
       "        vertical-align: top;\n",
       "    }\n",
       "\n",
       "    .dataframe thead th {\n",
       "        text-align: right;\n",
       "    }\n",
       "</style>\n",
       "<table border=\"1\" class=\"dataframe\">\n",
       "  <thead>\n",
       "    <tr style=\"text-align: right;\">\n",
       "      <th></th>\n",
       "      <th>RMSE_train</th>\n",
       "      <th>RMSE_test</th>\n",
       "      <th>R2_train</th>\n",
       "      <th>R2_test</th>\n",
       "      <th>TIME</th>\n",
       "    </tr>\n",
       "  </thead>\n",
       "  <tbody>\n",
       "    <tr>\n",
       "      <th>valeur</th>\n",
       "      <td>38.19354</td>\n",
       "      <td>65.41951</td>\n",
       "      <td>0.89126</td>\n",
       "      <td>0.69468</td>\n",
       "      <td>(2.0, 28.0490015999967)</td>\n",
       "    </tr>\n",
       "  </tbody>\n",
       "</table>\n",
       "</div>"
      ],
      "text/plain": [
       "        RMSE_train  RMSE_test  R2_train  R2_test                     TIME\n",
       "valeur    38.19354   65.41951   0.89126  0.69468  (2.0, 28.0490015999967)"
      ]
     },
     "metadata": {},
     "output_type": "display_data"
    },
    {
     "data": {
      "text/html": [
       "<div>\n",
       "<style scoped>\n",
       "    .dataframe tbody tr th:only-of-type {\n",
       "        vertical-align: middle;\n",
       "    }\n",
       "\n",
       "    .dataframe tbody tr th {\n",
       "        vertical-align: top;\n",
       "    }\n",
       "\n",
       "    .dataframe thead th {\n",
       "        text-align: right;\n",
       "    }\n",
       "</style>\n",
       "<table border=\"1\" class=\"dataframe\">\n",
       "  <thead>\n",
       "    <tr style=\"text-align: right;\">\n",
       "      <th></th>\n",
       "      <th>max_depth</th>\n",
       "      <th>min_samples_leaf</th>\n",
       "      <th>min_samples_split</th>\n",
       "      <th>n_estimators</th>\n",
       "    </tr>\n",
       "  </thead>\n",
       "  <tbody>\n",
       "    <tr>\n",
       "      <th>value</th>\n",
       "      <td>90</td>\n",
       "      <td>2</td>\n",
       "      <td>4</td>\n",
       "      <td>40</td>\n",
       "    </tr>\n",
       "  </tbody>\n",
       "</table>\n",
       "</div>"
      ],
      "text/plain": [
       "       max_depth  min_samples_leaf  min_samples_split  n_estimators\n",
       "value         90                 2                  4            40"
      ]
     },
     "metadata": {},
     "output_type": "display_data"
    }
   ],
   "source": [
    "start_time = timeit.default_timer()\n",
    "\n",
    "cv_rfr_params_ghg = {'n_estimators':[10,20,30,40],'max_depth':[20,50,70,90],'min_samples_leaf':[2,4,8],'min_samples_split':[4,8,12]}\n",
    "cv_rfr_params_nrj = {'n_estimators':[50,60,70],'max_depth':[5,10,20],'min_samples_leaf':[2,4,8,10,20],'min_samples_split':[20,50,70]}\n",
    "\n",
    "rfr_param_choice = {'rfr_ghg_emission':cv_rfr_params_ghg, 'rfr_energy_use':cv_rfr_params_nrj}\n",
    "\n",
    "cv_rfr_params = rfr_param_choice['rfr_' + exp_variable]\n",
    "\n",
    "cv_rfr = GridSearchCV(RandomForestRegressor(), cv_rfr_params, cv=5, scoring='neg_root_mean_squared_error')\n",
    "\n",
    "# cv_rfr.fit(X_train_std_2, y_train)\n",
    "cv_rfr.fit(X_train_std, y_train)\n",
    "\n",
    "rfr = RandomForestRegressor(n_estimators = cv_rfr.best_params_['n_estimators'],\n",
    "                            max_depth = cv_rfr.best_params_['max_depth'],\n",
    "                            min_samples_leaf = cv_rfr.best_params_['min_samples_leaf'],\n",
    "                            min_samples_split = cv_rfr.best_params_['min_samples_split'])\n",
    "\n",
    "if feature_select :\n",
    "    rfr_0 = rfr.fit(X_train_std, y_train)\n",
    "    select = SelectFromModel(rfr, prefit=True, threshold='mean')\n",
    "    X_train_std_2 = select.transform(X_train_std)\n",
    "    X_test_std_2 = select.transform(X_test_std)\n",
    "    rfr.fit(X_train_std_2, y_train)\n",
    "    y_pred_train_rfr, y_pred_test_rfr = rfr.predict(X_train_std_2), rfr.predict(X_test_std_2)\n",
    "else :\n",
    "    rfr.fit(X_train_std, y_train)\n",
    "    y_pred_train_rfr, y_pred_test_rfr = rfr.predict(X_train_std), rfr.predict(X_test_std)\n",
    "\n",
    "end_time = timeit.default_timer()\n",
    "\n",
    "time_rfr = get_time(start_time, end_time)\n",
    "\n",
    "# Inversion du passage au log\n",
    "y_pred_train_rfr, y_pred_test_rfr = [np.exp(x) for x in y_pred_train_rfr],[np.exp(x) for x in y_pred_test_rfr]\n",
    "\n",
    "train_error_rfr, test_error_rfr, train_r2_rfr, test_r2_rfr, time_rfr = show_metric(y_pred_train_rfr, y_train, y_pred_test_rfr, y_test, time_rfr)\n",
    "show_best_param(cv_rfr.best_params_)"
   ]
  },
  {
   "cell_type": "code",
   "execution_count": 363,
   "id": "edd9cf42",
   "metadata": {},
   "outputs": [],
   "source": [
    "# save_results(train_error_rfr, test_error_rfr, train_r2_rfr, test_r2_rfr, time_rfr, exp_variable, 'Random Forest')"
   ]
  },
  {
   "cell_type": "code",
   "execution_count": 91,
   "id": "5f5be069",
   "metadata": {},
   "outputs": [],
   "source": [
    "# model_vs_real(y_pred_test_rfr, np.array(y_test), exp_variable)"
   ]
  },
  {
   "cell_type": "markdown",
   "id": "fd1b6126",
   "metadata": {},
   "source": [
    "# <p style='text-align:center'> GradientBoost </p>"
   ]
  },
  {
   "cell_type": "code",
   "execution_count": 365,
   "id": "c0e62878",
   "metadata": {},
   "outputs": [
    {
     "data": {
      "text/html": [
       "<div>\n",
       "<style scoped>\n",
       "    .dataframe tbody tr th:only-of-type {\n",
       "        vertical-align: middle;\n",
       "    }\n",
       "\n",
       "    .dataframe tbody tr th {\n",
       "        vertical-align: top;\n",
       "    }\n",
       "\n",
       "    .dataframe thead th {\n",
       "        text-align: right;\n",
       "    }\n",
       "</style>\n",
       "<table border=\"1\" class=\"dataframe\">\n",
       "  <thead>\n",
       "    <tr style=\"text-align: right;\">\n",
       "      <th></th>\n",
       "      <th>RMSE_train</th>\n",
       "      <th>RMSE_test</th>\n",
       "      <th>R2_train</th>\n",
       "      <th>R2_test</th>\n",
       "      <th>TIME</th>\n",
       "    </tr>\n",
       "  </thead>\n",
       "  <tbody>\n",
       "    <tr>\n",
       "      <th>valeur</th>\n",
       "      <td>19.16535</td>\n",
       "      <td>57.18224</td>\n",
       "      <td>0.97262</td>\n",
       "      <td>0.76672</td>\n",
       "      <td>(5.0, 45.41592200000014)</td>\n",
       "    </tr>\n",
       "  </tbody>\n",
       "</table>\n",
       "</div>"
      ],
      "text/plain": [
       "        RMSE_train  RMSE_test  R2_train  R2_test                      TIME\n",
       "valeur    19.16535   57.18224   0.97262  0.76672  (5.0, 45.41592200000014)"
      ]
     },
     "metadata": {},
     "output_type": "display_data"
    },
    {
     "data": {
      "text/html": [
       "<div>\n",
       "<style scoped>\n",
       "    .dataframe tbody tr th:only-of-type {\n",
       "        vertical-align: middle;\n",
       "    }\n",
       "\n",
       "    .dataframe tbody tr th {\n",
       "        vertical-align: top;\n",
       "    }\n",
       "\n",
       "    .dataframe thead th {\n",
       "        text-align: right;\n",
       "    }\n",
       "</style>\n",
       "<table border=\"1\" class=\"dataframe\">\n",
       "  <thead>\n",
       "    <tr style=\"text-align: right;\">\n",
       "      <th></th>\n",
       "      <th>max_depth</th>\n",
       "      <th>min_samples_leaf</th>\n",
       "      <th>min_samples_split</th>\n",
       "      <th>n_estimators</th>\n",
       "    </tr>\n",
       "  </thead>\n",
       "  <tbody>\n",
       "    <tr>\n",
       "      <th>value</th>\n",
       "      <td>20</td>\n",
       "      <td>4</td>\n",
       "      <td>50</td>\n",
       "      <td>70</td>\n",
       "    </tr>\n",
       "  </tbody>\n",
       "</table>\n",
       "</div>"
      ],
      "text/plain": [
       "       max_depth  min_samples_leaf  min_samples_split  n_estimators\n",
       "value         20                 4                 50            70"
      ]
     },
     "metadata": {},
     "output_type": "display_data"
    }
   ],
   "source": [
    "start_time = timeit.default_timer()\n",
    "\n",
    "cv_gbr_params_ghg = {'n_estimators':[20,50,70],'max_depth':[5,10,20],'min_samples_leaf':[2,4,8,10,20],'min_samples_split':[20,50,70]}\n",
    "cv_gbr_params_nrj = {'n_estimators':[50,60,70],'max_depth':[5,10,20],'min_samples_leaf':[2,4,8,10,20],'min_samples_split':[20,50,70]}\n",
    "\n",
    "gbr_param_choice = {'gbr_ghg_emission':cv_gbr_params_ghg,'gbr_energy_use':cv_gbr_params_nrj}\n",
    "\n",
    "cv_gbr_params = gbr_param_choice['gbr_' + exp_variable]\n",
    "\n",
    "cv_gbr = GridSearchCV(GradientBoostingRegressor(), cv_gbr_params, cv=5, scoring='neg_root_mean_squared_error')\n",
    "\n",
    "cv_gbr.fit(X_train_std, y_train)\n",
    "\n",
    "gbr = GradientBoostingRegressor(n_estimators = cv_gbr.best_params_['n_estimators'],\n",
    "                            max_depth = cv_gbr.best_params_['max_depth'],\n",
    "                            min_samples_leaf = cv_gbr.best_params_['min_samples_leaf'],\n",
    "                            min_samples_split = cv_gbr.best_params_['min_samples_split'])\n",
    "\n",
    "if feature_select :\n",
    "    gbr_0 = gbr.fit(X_train_std, y_train)\n",
    "    select = SelectFromModel(gbr_0, prefit=True, threshold=0.003)\n",
    "    X_train_std_2 = select.transform(X_train_std)\n",
    "    X_test_std_2 = select.transform(X_test_std)\n",
    "    gbr.fit(X_train_std_2, y_train)\n",
    "    y_pred_train_gbr, y_pred_test_gbr= gbr.predict(X_train_std_2), gbr.predict(X_test_std_2)\n",
    "else :\n",
    "    gbr.fit(X_train_std, y_train)\n",
    "    y_pred_train_gbr, y_pred_test_gbr= gbr.predict(X_train_std), gbr.predict(X_test_std)\n",
    "\n",
    "# Inversion du passage au log\n",
    "y_pred_train_gbr, y_pred_test_gbr = [np.exp(x) for x in y_pred_train_gbr],[np.exp(x) for x in y_pred_test_gbr]\n",
    "\n",
    "\n",
    "end_time = timeit.default_timer()\n",
    "\n",
    "time_gbr= get_time(start_time, end_time)\n",
    "train_error_gbr, test_error_gbr, train_r2_gbr, test_r2_gbr, time_gbr = show_metric(y_pred_train_gbr, y_train, y_pred_test_gbr, y_test, time_gbr)\n",
    "show_best_param(cv_gbr.best_params_)"
   ]
  },
  {
   "cell_type": "code",
   "execution_count": 366,
   "id": "a487d002",
   "metadata": {},
   "outputs": [],
   "source": [
    "# save_results(train_error_gbr, test_error_gbr, train_r2_gbr, test_r2_gbr, time_gbr, exp_variable, 'GradientBoost')"
   ]
  },
  {
   "cell_type": "code",
   "execution_count": null,
   "id": "a111a61d",
   "metadata": {},
   "outputs": [],
   "source": [
    "# model_vs_real(y_pred_test_ada, y_test, exp_variable)"
   ]
  },
  {
   "cell_type": "markdown",
   "id": "7d877a8b",
   "metadata": {},
   "source": [
    "# <p style='text-align:center'> Dummy </p>"
   ]
  },
  {
   "cell_type": "code",
   "execution_count": 380,
   "id": "afabd7ed",
   "metadata": {},
   "outputs": [
    {
     "data": {
      "text/html": [
       "<div>\n",
       "<style scoped>\n",
       "    .dataframe tbody tr th:only-of-type {\n",
       "        vertical-align: middle;\n",
       "    }\n",
       "\n",
       "    .dataframe tbody tr th {\n",
       "        vertical-align: top;\n",
       "    }\n",
       "\n",
       "    .dataframe thead th {\n",
       "        text-align: right;\n",
       "    }\n",
       "</style>\n",
       "<table border=\"1\" class=\"dataframe\">\n",
       "  <thead>\n",
       "    <tr style=\"text-align: right;\">\n",
       "      <th></th>\n",
       "      <th>RMSE_train</th>\n",
       "      <th>RMSE_test</th>\n",
       "      <th>R2_train</th>\n",
       "      <th>R2_test</th>\n",
       "      <th>TIME</th>\n",
       "    </tr>\n",
       "  </thead>\n",
       "  <tbody>\n",
       "    <tr>\n",
       "      <th>valeur</th>\n",
       "      <td>124.3718</td>\n",
       "      <td>126.62832</td>\n",
       "      <td>-0.15301</td>\n",
       "      <td>-0.14395</td>\n",
       "      <td>(0.0, 0.01307739999901969)</td>\n",
       "    </tr>\n",
       "  </tbody>\n",
       "</table>\n",
       "</div>"
      ],
      "text/plain": [
       "        RMSE_train  RMSE_test  R2_train  R2_test                        TIME\n",
       "valeur    124.3718  126.62832  -0.15301 -0.14395  (0.0, 0.01307739999901969)"
      ]
     },
     "metadata": {},
     "output_type": "display_data"
    }
   ],
   "source": [
    "start_time = timeit.default_timer()\n",
    "\n",
    "dum = dummy.DummyRegressor(strategy='mean')\n",
    "dum.fit(X_train_std, y_train)\n",
    "y_pred_train_dummy, y_pred_test_dummy = dum.predict(X_train_std), dum.predict(X_test_std)\n",
    "\n",
    "# Inversion du passage au log\n",
    "y_pred_train_dummy, y_pred_test_dummy = [np.exp(x) for x in y_pred_train_dummy],[np.exp(x) for x in y_pred_test_dummy]\n",
    "\n",
    "end_time = timeit.default_timer()\n",
    "\n",
    "time_dummy = get_time(start_time, end_time)\n",
    "\n",
    "train_error_dummy, test_error_dummy, train_r2_dummy, test_r2_dummy, time_dummy = show_metric(y_pred_train_dummy, y_train, y_pred_test_dummy, y_test, time_dummy)"
   ]
  },
  {
   "cell_type": "code",
   "execution_count": 381,
   "id": "defda773",
   "metadata": {},
   "outputs": [],
   "source": [
    "# save_results(train_error_dummy, test_error_dummy, train_r2_dummy, test_r2_dummy, time_dummy, exp_variable, 'Dummy (MEAN)')"
   ]
  },
  {
   "cell_type": "code",
   "execution_count": null,
   "id": "de7901e5",
   "metadata": {},
   "outputs": [],
   "source": [
    "# model_vs_real(y_pred_test_dummy, y_test, exp_variable)"
   ]
  },
  {
   "cell_type": "markdown",
   "id": "75d80c2b",
   "metadata": {},
   "source": [
    "# <p style='text-align:center'> Synthèse des résultats et choix du modèle </p>"
   ]
  },
  {
   "cell_type": "code",
   "execution_count": 394,
   "id": "a049f4cc",
   "metadata": {},
   "outputs": [],
   "source": [
    "resultats_rmse_train, resultats_rmse_test, resultats_r2_train, resultats_r2_test, resultats_time = pd.read_excel('rmse_train.xlsx'), pd.read_excel('rmse_test.xlsx'), pd.read_excel('r2_train.xlsx'), pd.read_excel('r2_test.xlsx'), pd.read_excel('time.xlsx')"
   ]
  },
  {
   "cell_type": "code",
   "execution_count": 395,
   "id": "28ade14a",
   "metadata": {},
   "outputs": [
    {
     "data": {
      "text/html": [
       "<div>\n",
       "<style scoped>\n",
       "    .dataframe tbody tr th:only-of-type {\n",
       "        vertical-align: middle;\n",
       "    }\n",
       "\n",
       "    .dataframe tbody tr th {\n",
       "        vertical-align: top;\n",
       "    }\n",
       "\n",
       "    .dataframe thead th {\n",
       "        text-align: right;\n",
       "    }\n",
       "</style>\n",
       "<table border=\"1\" class=\"dataframe\">\n",
       "  <thead>\n",
       "    <tr style=\"text-align: right;\">\n",
       "      <th></th>\n",
       "      <th>Target</th>\n",
       "      <th>Regression simple</th>\n",
       "      <th>Regression Ridge</th>\n",
       "      <th>Regression Lasso</th>\n",
       "      <th>Regression Elastic Net</th>\n",
       "      <th>Linear SVR</th>\n",
       "      <th>MLP Regression</th>\n",
       "      <th>Random Forest</th>\n",
       "      <th>GradientBoost</th>\n",
       "      <th>Dummy (MEAN)</th>\n",
       "    </tr>\n",
       "  </thead>\n",
       "  <tbody>\n",
       "    <tr>\n",
       "      <th>0</th>\n",
       "      <td>energy_use</td>\n",
       "      <td>0.52594</td>\n",
       "      <td>0.55745</td>\n",
       "      <td>0.54204</td>\n",
       "      <td>0.55927</td>\n",
       "      <td>0.59020</td>\n",
       "      <td>0.60132</td>\n",
       "      <td>0.74886</td>\n",
       "      <td>0.81181</td>\n",
       "      <td>-0.14210</td>\n",
       "    </tr>\n",
       "    <tr>\n",
       "      <th>1</th>\n",
       "      <td>ghg_emission</td>\n",
       "      <td>0.45418</td>\n",
       "      <td>0.52938</td>\n",
       "      <td>0.49408</td>\n",
       "      <td>0.54005</td>\n",
       "      <td>0.58485</td>\n",
       "      <td>0.52170</td>\n",
       "      <td>0.69468</td>\n",
       "      <td>0.76672</td>\n",
       "      <td>-0.14395</td>\n",
       "    </tr>\n",
       "  </tbody>\n",
       "</table>\n",
       "</div>"
      ],
      "text/plain": [
       "         Target  Regression simple  Regression Ridge  Regression Lasso  \\\n",
       "0    energy_use            0.52594           0.55745           0.54204   \n",
       "1  ghg_emission            0.45418           0.52938           0.49408   \n",
       "\n",
       "   Regression Elastic Net  Linear SVR  MLP Regression  Random Forest  \\\n",
       "0                 0.55927     0.59020         0.60132        0.74886   \n",
       "1                 0.54005     0.58485         0.52170        0.69468   \n",
       "\n",
       "   GradientBoost  Dummy (MEAN)  \n",
       "0        0.81181      -0.14210  \n",
       "1        0.76672      -0.14395  "
      ]
     },
     "execution_count": 395,
     "metadata": {},
     "output_type": "execute_result"
    }
   ],
   "source": [
    "resultats_r2_test"
   ]
  },
  {
   "cell_type": "code",
   "execution_count": 396,
   "id": "ac25f433",
   "metadata": {},
   "outputs": [
    {
     "data": {
      "text/html": [
       "<div>\n",
       "<style scoped>\n",
       "    .dataframe tbody tr th:only-of-type {\n",
       "        vertical-align: middle;\n",
       "    }\n",
       "\n",
       "    .dataframe tbody tr th {\n",
       "        vertical-align: top;\n",
       "    }\n",
       "\n",
       "    .dataframe thead th {\n",
       "        text-align: right;\n",
       "    }\n",
       "</style>\n",
       "<table border=\"1\" class=\"dataframe\">\n",
       "  <thead>\n",
       "    <tr style=\"text-align: right;\">\n",
       "      <th></th>\n",
       "      <th>Target</th>\n",
       "      <th>Regression simple</th>\n",
       "      <th>Regression Ridge</th>\n",
       "      <th>Regression Lasso</th>\n",
       "      <th>Regression Elastic Net</th>\n",
       "      <th>Linear SVR</th>\n",
       "      <th>MLP Regression</th>\n",
       "      <th>Random Forest</th>\n",
       "      <th>GradientBoost</th>\n",
       "      <th>Dummy (MEAN)</th>\n",
       "    </tr>\n",
       "  </thead>\n",
       "  <tbody>\n",
       "    <tr>\n",
       "      <th>0</th>\n",
       "      <td>energy_use</td>\n",
       "      <td>3.17377e+06</td>\n",
       "      <td>3.06650e+06</td>\n",
       "      <td>3.11941e+06</td>\n",
       "      <td>3.06016e+06</td>\n",
       "      <td>2.95083e+06</td>\n",
       "      <td>2.91054e+06</td>\n",
       "      <td>2.31004e+06</td>\n",
       "      <td>1.99967e+06</td>\n",
       "      <td>4.92619e+06</td>\n",
       "    </tr>\n",
       "    <tr>\n",
       "      <th>1</th>\n",
       "      <td>ghg_emission</td>\n",
       "      <td>8.74683e+01</td>\n",
       "      <td>8.12194e+01</td>\n",
       "      <td>8.42109e+01</td>\n",
       "      <td>8.02940e+01</td>\n",
       "      <td>7.62829e+01</td>\n",
       "      <td>8.18797e+01</td>\n",
       "      <td>6.54195e+01</td>\n",
       "      <td>5.71822e+01</td>\n",
       "      <td>1.26628e+02</td>\n",
       "    </tr>\n",
       "  </tbody>\n",
       "</table>\n",
       "</div>"
      ],
      "text/plain": [
       "         Target  Regression simple  Regression Ridge  Regression Lasso  \\\n",
       "0    energy_use        3.17377e+06       3.06650e+06       3.11941e+06   \n",
       "1  ghg_emission        8.74683e+01       8.12194e+01       8.42109e+01   \n",
       "\n",
       "   Regression Elastic Net   Linear SVR  MLP Regression  Random Forest  \\\n",
       "0             3.06016e+06  2.95083e+06     2.91054e+06    2.31004e+06   \n",
       "1             8.02940e+01  7.62829e+01     8.18797e+01    6.54195e+01   \n",
       "\n",
       "   GradientBoost  Dummy (MEAN)  \n",
       "0    1.99967e+06   4.92619e+06  \n",
       "1    5.71822e+01   1.26628e+02  "
      ]
     },
     "execution_count": 396,
     "metadata": {},
     "output_type": "execute_result"
    }
   ],
   "source": [
    "resultats_rmse_test"
   ]
  },
  {
   "cell_type": "markdown",
   "id": "feafb999",
   "metadata": {},
   "source": [
    "\n",
    "\n",
    "\n",
    "\n",
    "\n",
    "\n",
    "\n",
    "\n"
   ]
  },
  {
   "cell_type": "markdown",
   "id": "c397f4f2",
   "metadata": {},
   "source": [
    "# <p style='text-align:center'> Energy Star Score </p>"
   ]
  },
  {
   "cell_type": "code",
   "execution_count": 183,
   "id": "fb837f7e",
   "metadata": {},
   "outputs": [
    {
     "name": "stdout",
     "output_type": "stream",
     "text": [
      "Avec Energy Star Score (energy_use) :\n"
     ]
    },
    {
     "data": {
      "text/html": [
       "<div>\n",
       "<style scoped>\n",
       "    .dataframe tbody tr th:only-of-type {\n",
       "        vertical-align: middle;\n",
       "    }\n",
       "\n",
       "    .dataframe tbody tr th {\n",
       "        vertical-align: top;\n",
       "    }\n",
       "\n",
       "    .dataframe thead th {\n",
       "        text-align: right;\n",
       "    }\n",
       "</style>\n",
       "<table border=\"1\" class=\"dataframe\">\n",
       "  <thead>\n",
       "    <tr style=\"text-align: right;\">\n",
       "      <th></th>\n",
       "      <th>RMSE_train</th>\n",
       "      <th>RMSE_test</th>\n",
       "      <th>R2_train</th>\n",
       "      <th>R2_test</th>\n",
       "      <th>TIME</th>\n",
       "    </tr>\n",
       "  </thead>\n",
       "  <tbody>\n",
       "    <tr>\n",
       "      <th>valeur</th>\n",
       "      <td>669932.231</td>\n",
       "      <td>1.797e+06</td>\n",
       "      <td>0.98</td>\n",
       "      <td>0.848</td>\n",
       "      <td>undefined</td>\n",
       "    </tr>\n",
       "  </tbody>\n",
       "</table>\n",
       "</div>"
      ],
      "text/plain": [
       "        RMSE_train  RMSE_test  R2_train  R2_test       TIME\n",
       "valeur  669932.231  1.797e+06      0.98    0.848  undefined"
      ]
     },
     "metadata": {},
     "output_type": "display_data"
    },
    {
     "name": "stdout",
     "output_type": "stream",
     "text": [
      "Sans Energy Star Score (energy_use) :\n"
     ]
    },
    {
     "data": {
      "text/html": [
       "<div>\n",
       "<style scoped>\n",
       "    .dataframe tbody tr th:only-of-type {\n",
       "        vertical-align: middle;\n",
       "    }\n",
       "\n",
       "    .dataframe tbody tr th {\n",
       "        vertical-align: top;\n",
       "    }\n",
       "\n",
       "    .dataframe thead th {\n",
       "        text-align: right;\n",
       "    }\n",
       "</style>\n",
       "<table border=\"1\" class=\"dataframe\">\n",
       "  <thead>\n",
       "    <tr style=\"text-align: right;\">\n",
       "      <th></th>\n",
       "      <th>RMSE_train</th>\n",
       "      <th>RMSE_test</th>\n",
       "      <th>R2_train</th>\n",
       "      <th>R2_test</th>\n",
       "      <th>TIME</th>\n",
       "    </tr>\n",
       "  </thead>\n",
       "  <tbody>\n",
       "    <tr>\n",
       "      <th>valeur</th>\n",
       "      <td>823244.177</td>\n",
       "      <td>2.003e+06</td>\n",
       "      <td>0.97</td>\n",
       "      <td>0.811</td>\n",
       "      <td>undefined</td>\n",
       "    </tr>\n",
       "  </tbody>\n",
       "</table>\n",
       "</div>"
      ],
      "text/plain": [
       "        RMSE_train  RMSE_test  R2_train  R2_test       TIME\n",
       "valeur  823244.177  2.003e+06      0.97    0.811  undefined"
      ]
     },
     "metadata": {},
     "output_type": "display_data"
    },
    {
     "name": "stdout",
     "output_type": "stream",
     "text": [
      "Avec Energy Star Score (ghg_emission) :\n"
     ]
    },
    {
     "data": {
      "text/html": [
       "<div>\n",
       "<style scoped>\n",
       "    .dataframe tbody tr th:only-of-type {\n",
       "        vertical-align: middle;\n",
       "    }\n",
       "\n",
       "    .dataframe tbody tr th {\n",
       "        vertical-align: top;\n",
       "    }\n",
       "\n",
       "    .dataframe thead th {\n",
       "        text-align: right;\n",
       "    }\n",
       "</style>\n",
       "<table border=\"1\" class=\"dataframe\">\n",
       "  <thead>\n",
       "    <tr style=\"text-align: right;\">\n",
       "      <th></th>\n",
       "      <th>RMSE_train</th>\n",
       "      <th>RMSE_test</th>\n",
       "      <th>R2_train</th>\n",
       "      <th>R2_test</th>\n",
       "      <th>TIME</th>\n",
       "    </tr>\n",
       "  </thead>\n",
       "  <tbody>\n",
       "    <tr>\n",
       "      <th>valeur</th>\n",
       "      <td>16.678</td>\n",
       "      <td>53.845</td>\n",
       "      <td>0.979</td>\n",
       "      <td>0.793</td>\n",
       "      <td>undefined</td>\n",
       "    </tr>\n",
       "  </tbody>\n",
       "</table>\n",
       "</div>"
      ],
      "text/plain": [
       "        RMSE_train  RMSE_test  R2_train  R2_test       TIME\n",
       "valeur      16.678     53.845     0.979    0.793  undefined"
      ]
     },
     "metadata": {},
     "output_type": "display_data"
    },
    {
     "name": "stdout",
     "output_type": "stream",
     "text": [
      "Sans Energy Star Score (ghg_emission) :\n"
     ]
    },
    {
     "data": {
      "text/html": [
       "<div>\n",
       "<style scoped>\n",
       "    .dataframe tbody tr th:only-of-type {\n",
       "        vertical-align: middle;\n",
       "    }\n",
       "\n",
       "    .dataframe tbody tr th {\n",
       "        vertical-align: top;\n",
       "    }\n",
       "\n",
       "    .dataframe thead th {\n",
       "        text-align: right;\n",
       "    }\n",
       "</style>\n",
       "<table border=\"1\" class=\"dataframe\">\n",
       "  <thead>\n",
       "    <tr style=\"text-align: right;\">\n",
       "      <th></th>\n",
       "      <th>RMSE_train</th>\n",
       "      <th>RMSE_test</th>\n",
       "      <th>R2_train</th>\n",
       "      <th>R2_test</th>\n",
       "      <th>TIME</th>\n",
       "    </tr>\n",
       "  </thead>\n",
       "  <tbody>\n",
       "    <tr>\n",
       "      <th>valeur</th>\n",
       "      <td>19.165</td>\n",
       "      <td>57.226</td>\n",
       "      <td>0.973</td>\n",
       "      <td>0.766</td>\n",
       "      <td>undefined</td>\n",
       "    </tr>\n",
       "  </tbody>\n",
       "</table>\n",
       "</div>"
      ],
      "text/plain": [
       "        RMSE_train  RMSE_test  R2_train  R2_test       TIME\n",
       "valeur      19.165     57.226     0.973    0.766  undefined"
      ]
     },
     "metadata": {},
     "output_type": "display_data"
    }
   ],
   "source": [
    "for target in ['energy_use','ghg_emission']:\n",
    "    for nrj in [True, False]:\n",
    "        message = 'Avec Energy Star Score (' if nrj else 'Sans Energy Star Score ('\n",
    "        bench = pd.read_excel(\"benchmark_cleaned.xlsx\")\n",
    "        X, X_before_encoding = explanatory_variables(bench, nrj)\n",
    "        y = explained_variable(bench = bench, var_name = target)\n",
    "        X_train, X_test, y_train, y_test = train_test_split(X, y, test_size=0.33, random_state=5)\n",
    "        X_train_std, X_test_std = standardize(X_train, X_test, y_train, y_test, X_before_encoding.shape[1])\n",
    "        gbr = GradientBoostingRegressor(n_estimators = cv_gbr.best_params_['n_estimators'],\n",
    "                            max_depth = cv_gbr.best_params_['max_depth'],\n",
    "                            min_samples_leaf = cv_gbr.best_params_['min_samples_leaf'],\n",
    "                            min_samples_split = cv_gbr.best_params_['min_samples_split'])\n",
    "        gbr.fit(X_train_std, y_train)\n",
    "        y_pred_train_gbr, y_pred_test_gbr = gbr.predict(X_train_std), gbr.predict(X_test_std)\n",
    "        # Inversion du passage au log\n",
    "        y_pred_train_gbr, y_pred_test_gbr = [np.exp(x) for x in y_pred_train_gbr],[np.exp(x) for x in y_pred_test_gbr]\n",
    "        print(message + target + ') :')\n",
    "        show_metric(y_pred_train_gbr, y_train, y_pred_test_gbr, y_test, 'undefined', True)"
   ]
  },
  {
   "cell_type": "code",
   "execution_count": null,
   "id": "e3742250",
   "metadata": {},
   "outputs": [],
   "source": []
  }
 ],
 "metadata": {
  "kernelspec": {
   "display_name": "Python 3 (ipykernel)",
   "language": "python",
   "name": "python3"
  },
  "language_info": {
   "codemirror_mode": {
    "name": "ipython",
    "version": 3
   },
   "file_extension": ".py",
   "mimetype": "text/x-python",
   "name": "python",
   "nbconvert_exporter": "python",
   "pygments_lexer": "ipython3",
   "version": "3.10.4"
  }
 },
 "nbformat": 4,
 "nbformat_minor": 5
}
