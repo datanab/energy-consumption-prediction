{
 "cells": [
  {
   "cell_type": "code",
   "execution_count": 7,
   "id": "1ca1fdc9",
   "metadata": {},
   "outputs": [],
   "source": [
    "import pandas as pd\n",
    "pd.set_option('display.max_columns',None)\n",
    "pd.set_option('display.max_rows',None)"
   ]
  },
  {
   "cell_type": "code",
   "execution_count": 8,
   "id": "d2c8f41a",
   "metadata": {},
   "outputs": [],
   "source": [
    "import numpy as np"
   ]
  },
  {
   "cell_type": "code",
   "execution_count": 9,
   "id": "272577f4",
   "metadata": {},
   "outputs": [],
   "source": [
    "import matplotlib.pyplot as plt"
   ]
  },
  {
   "cell_type": "code",
   "execution_count": 10,
   "id": "c1f35bac",
   "metadata": {},
   "outputs": [],
   "source": [
    "import seaborn as sns"
   ]
  },
  {
   "cell_type": "code",
   "execution_count": 560,
   "id": "a842abe6",
   "metadata": {},
   "outputs": [],
   "source": [
    "import geojson\n",
    "import plotly.express as px\n",
    "import plotly.graph_objects as go"
   ]
  },
  {
   "cell_type": "markdown",
   "id": "8570334d",
   "metadata": {},
   "source": [
    "# <p style = 'text-align:center'> Fonctions </p>"
   ]
  },
  {
   "cell_type": "markdown",
   "id": "5411069a",
   "metadata": {},
   "source": [
    "## Features engineering fonctions"
   ]
  },
  {
   "cell_type": "code",
   "execution_count": 11,
   "id": "bac67753",
   "metadata": {},
   "outputs": [],
   "source": [
    "def features_choices_15(bench,drop_list,names,info,model):\n",
    "    bench[\"age\"] = bench[\"DataYear\"]-bench[\"YearBuilt\"]\n",
    "    bench = bench.drop(columns=drop_list)\n",
    "    bench = bench.rename(names,axis='columns')\n",
    "    bench['lat']=bench['loc'].apply(lambda r:r.split('\\'')[3]).astype('float')\n",
    "    bench['lon']=bench['loc'].apply(lambda r:r.split('\\'')[7]).astype('float')\n",
    "    bench['adress']=bench['loc'].apply(lambda r:r.split('\\'')[11].split(',')[0].split(\"\\\"\")[3])\n",
    "    bench = bench.drop(columns=['loc'])\n",
    "    bench_info = bench[info]\n",
    "    bench_model = bench[model]\n",
    "    return bench_info, bench_model"
   ]
  },
  {
   "cell_type": "code",
   "execution_count": 12,
   "id": "124cbbbc",
   "metadata": {},
   "outputs": [],
   "source": [
    "def features_choices_16(bench,drop_list,names,info,model):\n",
    "    bench[\"age\"] = bench[\"DataYear\"]-bench[\"YearBuilt\"]\n",
    "    bench = bench.drop(columns=drop_list)\n",
    "    bench = bench.rename(names,axis='columns')\n",
    "    bench_info = bench[info]\n",
    "    bench_model = bench[model]\n",
    "    return bench_info, bench_model"
   ]
  },
  {
   "cell_type": "code",
   "execution_count": 377,
   "id": "1b93543f",
   "metadata": {},
   "outputs": [],
   "source": [
    "def features_choices(bench15_1, bench16_1, to_drop_15, to_drop_16, new_names_15, new_names_16, info_var, model_var):\n",
    "    bench15_info, bench15_model = features_choices_15(bench15_1, to_drop_15, new_names_15, info_var, model_var)\n",
    "    bench16_info, bench16_model = features_choices_16(bench16_1, to_drop_16, new_names_16, info_var, model_var)\n",
    "    bench_info = pd.concat([bench15_info, bench16_info],axis=0).reset_index(drop=True)\n",
    "    bench_info = bench_info.drop_duplicates(subset = [\"id\"]).reset_index(drop=True)\n",
    "    bench_model = pd.concat([bench15_model, bench16_model],axis=0).reset_index(drop=True)\n",
    "    bench_model = bench_model.drop_duplicates(subset = [\"id\"]).reset_index(drop=True)    \n",
    "    return bench_info, bench_model"
   ]
  },
  {
   "cell_type": "code",
   "execution_count": 18,
   "id": "e617e2b2",
   "metadata": {},
   "outputs": [],
   "source": [
    "def compute_lput_2(lput):\n",
    "    lput_2 = 'moderate_energy_use_lput'\n",
    "    if lput in ['College/University', 'Hospital (General Medical & Surgical)', 'Data Center']:\n",
    "        lput_2 = 'very_high_energy_use_lput'\n",
    "    if lput in ['Convention Center','Courthouse','Urgent Care/Clinic/Other Outpatient', 'Laboratory', 'Other - Mall','Parking', 'Other - Entertainment/Public Assembly', 'Lifestyle Center', 'Wholesale Club/Supercenter', 'Medical Office', 'Police Station', 'Hotel', 'Other']:\n",
    "        lput_2 = 'high_energy_use_lput'\n",
    "    if lput in ['Supermarket/Grocery Store', 'Office', 'Senior Care Community', 'Other - Restaurant/Bar', 'Restaurant', 'Museum', 'Fitness Center/Health Club/Gym', 'Other/Specialty Hospital', 'Strip Mall', 'Library', 'Retail Store', 'Residence Hall/Dormitory', 'Other - Recreation', 'Other - Education', 'Manufacturing/Industrial Plant', 'K-12 School', 'Refrigerated Warehouse']:\n",
    "        lput_2 = 'moderate_energy_use_lput'\n",
    "    if lput in ['Movie Theater', 'Other - Services', 'Social/Meeting Hall', 'Personal Services (Health/Beauty, Dry Cleaning, etc)', 'Distribution Center', 'Automobile Dealership', 'Multifamily Housing', 'Adult Education', 'Other - Utility', 'Financial Office', 'Non-Refrigerated Warehouse', 'Other - Lodging/Residential', 'Performing Arts', 'Pre-school/Daycare', 'Bank Branch', 'Residential Care Facility', 'Worship Facility', 'Repair Services (Vehicle, Shoe, Locksmith, etc)', 'Other - Public Services']:\n",
    "        lput_2 = 'low_energy_use_lput'\n",
    "    if lput in ['Prison/Incarceration', 'Self-Storage Facility', 'Outpatient Rehabilitation/Physical Therapy', 'Food Service']:\n",
    "        lput_2 = 'very_low_energy_use_lput'   \n",
    "    return lput_2"
   ]
  },
  {
   "cell_type": "code",
   "execution_count": 19,
   "id": "434f3215",
   "metadata": {},
   "outputs": [],
   "source": [
    "def compute_sput_2(sput):\n",
    "    sput_2 = 'moderate_energy_use_sput'\n",
    "    if sput in ['Data Center', 'Hospital (General Medical & Surgical)', 'Laboratory', 'Hotel', 'College/University', 'Other - Recreation', 'Courthouse', 'Other/Specialty Hospital']:\n",
    "        sput_2 = 'very_high_energy_use_sput'\n",
    "    if sput in ['Convenience Store without Gas Station', 'Movie Theater', 'Multifamily Housing', 'Supermarket/Grocery Store', 'Other - Entertainment/Public Assembly', 'Performing Arts', 'Other - Restaurant/Bar']:\n",
    "        sput_2 = 'high_energy_use_sput'\n",
    "    if sput in ['Parking', 'Repair Services (Vehicle, Shoe, Locksmith, etc)', 'Adult Education', 'Office', 'Other - Services', 'Restaurant', 'Senior Care Community', 'Manufacturing/Industrial Plant', 'Financial Office', 'Food Sales', 'Retail Store','Aucun']:\n",
    "        sput_2 = 'moderate_energy_use_sput'\n",
    "    if sput in ['Other - Public Services', 'Swimming Pool', 'Distribution Center', 'Other', 'Bar/Nightclub', 'Fitness Center/Health Club/Gym', 'Medical Office', 'Non-Refrigerated Warehouse', 'Food Service', 'Self-Storage Facility', 'Bank Branch', 'Worship Facility', 'Vocational School', 'Museum']:\n",
    "        sput_2 = 'low_energy_use_sput'\n",
    "    if sput in ['K-12 School', 'Other - Lodging/Residential', 'Other - Education', 'Refrigerated Warehouse', 'Residence Hall/Dormitory']:\n",
    "        sput_2 = 'very_low_energy_use_sput'   \n",
    "    return sput_2"
   ]
  },
  {
   "cell_type": "code",
   "execution_count": 20,
   "id": "48d88393",
   "metadata": {},
   "outputs": [],
   "source": [
    "def compute_tput_2(tput):\n",
    "    tput_2 = 'moderate_energy_use_tput'\n",
    "    if tput in ['Convenience Store without Gas Station', 'Worship Facility', 'Laboratory']:\n",
    "        tput_2 = 'high_energy_use_tput'\n",
    "    if tput in ['Fitness Center/Health Club/Gym', 'Data Center', 'Bank Branch', 'Other - Recreation', 'Other - Restaurant/Bar', 'Enclosed Mall', 'Refrigerated Warehouse', 'Supermarket/Grocery Store', 'Financial Office', 'Other', 'Residence Hall/Dormitory', 'K-12 School', 'Multifamily Housing', 'Food Sales', 'Personal Services (Health/Beauty, Dry Cleaning, etc)', 'Medical Office', 'Swimming Pool', 'Parking']:\n",
    "        tput_2 = 'moderate_energy_use_tput'\n",
    "    if tput in ['Manufacturing/Industrial Plant', 'Other - Lodging/Residential', 'College/University', 'Food Service', 'Restaurant', 'Other - Services', 'Distribution Center', 'Retail Store', 'Bar/Nightclub', 'Social/Meeting Hall', 'Office', 'Other - Entertainment/Public Assembly', 'Non-Refrigerated Warehouse', 'Strip Mall', 'Aucun', 'Other - Public Services', 'Self-Storage Facility', 'Fast Food Restaurant', 'Pre-school/Daycare', 'Other - Technology/Science']:\n",
    "        tput_2 = 'low_energy_use_tput'  \n",
    "    return tput_2"
   ]
  },
  {
   "cell_type": "code",
   "execution_count": 559,
   "id": "9fe56d72",
   "metadata": {},
   "outputs": [],
   "source": [
    "def loc_outlier():\n",
    "    # from sklearn.neighbors import LocalOutlierFactor\n",
    "    # X = bench_model_cleaned[['age', 'nb', 'nf', 'building_gfa' ,'parking_gfa','total_gfa', 'lput_gfa', 'sput_gfa', 'tput_gfa', 'energy_use', 'ghg_emission']].values\n",
    "    # clf = LocalOutlierFactor(n_neighbors=3)\n",
    "    # a = pd.DataFrame(data=clf.fit_predict(X),columns=['outlier'])\n",
    "    # a['id']=bench_model_cleaned.id\n",
    "    # a.outlier.value_counts()\n",
    "    # bench_model_cleaned = bench_model_cleaned.drop(bench_model_cleaned[bench_model_cleaned.id.isin(a[a['outlier']==-1]['id'].values)].index)\n",
    "    # clf.negative_outlier_factor_\n",
    "    return 3"
   ]
  },
  {
   "cell_type": "markdown",
   "id": "96f8a09b",
   "metadata": {},
   "source": [
    "## Cleaning function"
   ]
  },
  {
   "cell_type": "code",
   "execution_count": 567,
   "id": "f1383dc5",
   "metadata": {},
   "outputs": [],
   "source": [
    "def outlier_cleaning(bench):\n",
    "    bench_no_outlier = bench.drop(bench[~bench['Outlier'].isna()].index)\n",
    "    bench_no_outlier.drop(columns=['Outlier'])\n",
    "    #(bench_no_outlier['SiteEnergyUse(kBtu)']>=2*10**7)|\n",
    "    outliers_idx = bench_no_outlier[(bench_no_outlier['SiteEnergyUse(kBtu)']<=10**4)].index\n",
    "    bench_no_outlier = bench_no_outlier.drop(outliers_idx)\n",
    "    return bench_no_outlier"
   ]
  },
  {
   "cell_type": "code",
   "execution_count": 81,
   "id": "76ecc5ed",
   "metadata": {},
   "outputs": [],
   "source": [
    "def property_use_types_cleansing_and_imputation(bench_model):\n",
    "    # Imputation de la variable largest property use type avec la variable primary property type\n",
    "    unchanged = [\"Hotel\",\"Retail Store\",\"Non-Refrigerated Warehouse\",\"Other\",\"Distribution Center\",\"Medical Office\",\"Worship Facility\",\"Laboratory\",\"Refrigerated Warehouse\",\"Supermarket/Grocery Store\", \"Restaurant\", \"College/University\",\"Senior Care Community\",\"Self-Storage Facility\"]\n",
    "    for idx in bench_model[(~bench_model[\"primary_type\"].isna())&(bench_model[\"lput\"].isna())].index:\n",
    "        if (bench_model.loc[idx,\"primary_type\"]==\"Large Office\")|(bench_model.loc[idx,\"primary_type\"]==\"Small- and Mid-Sized Office\"):\n",
    "            bench_model.at[idx,\"lput\"] = \"Office\"\n",
    "            bench_model.at[idx,\"lput_gfa\"] = bench_model.loc[idx,\"building_gfa\"]    \n",
    "        if \"Multifamily\" in bench_model.loc[idx,\"primary_type\"]:\n",
    "            bench_model.at[idx,\"lput\"] = \"Multifamily Housing\"\n",
    "            bench_model.at[idx,\"lput_gfa\"] = bench_model.loc[idx,\"building_gfa\"]\n",
    "        if (bench_model.loc[idx,\"primary_type\"]==\"SPS-District K-12\"):\n",
    "            bench_model.at[idx,\"lput\"] = \"K-12 School\"\n",
    "            bench_model.at[idx,\"lput_gfa\"] = bench_model.loc[idx,\"building_gfa\"] \n",
    "        if (bench_model.loc[idx,\"primary_type\"]==\"Hospital\"):\n",
    "            bench_model.at[idx,\"lput\"] = \"Hospital (General Medical & Surgical)\"\n",
    "            bench_model.at[idx,\"lput_gfa\"] = bench_model.loc[idx,\"building_gfa\"]\n",
    "        if idx in [649, 2262, 2716]:\n",
    "            bench_model.at[idx,\"lput\"] = \"Retail Store\"\n",
    "            bench_model.at[idx,\"lput_gfa\"] = bench_model.loc[idx,\"building_gfa\"]\n",
    "        if idx==347:\n",
    "            bench_model.at[idx,\"lput\"] = \"Medical Office\"\n",
    "            bench_model.at[idx,\"lput_gfa\"] = bench_model.loc[idx,\"building_gfa\"]\n",
    "        if idx==309:\n",
    "            bench_model.at[idx,\"lput\"] = \"Other\"\n",
    "            bench_model.at[idx,\"lput_gfa\"] = bench_model.loc[idx,\"building_gfa\"]\n",
    "        if bench_model.loc[idx,\"primary_type\"] in unchanged:\n",
    "            bench_model.at[idx,\"lput\"] = bench_model.loc[idx,\"primary_type\"]\n",
    "            bench_model.at[idx,\"lput_gfa\"] = bench_model.loc[idx,\"building_gfa\"]\n",
    "\n",
    "    # Imputation des second et third property use type\n",
    "    to_complete_cat = ['lput', 'sput', 'tput']\n",
    "    for cat in to_complete_cat:\n",
    "        bench_model[cat] = bench_model[cat].fillna('Aucun')\n",
    "        bench_model[cat+'_gfa'] = bench_model[cat+'_gfa'].fillna(0)\n",
    "    \n",
    "    # Création des nouvelles variables simplifiées lput_1, sput_1 et tput_1\n",
    "    for var in ['lput','sput','tput']:\n",
    "        bench_model[var+'_2'] = bench_model[var].apply(compute_lput_2)\n",
    "    \n",
    "    # Suppression des données non utilisables \n",
    "    drop_idx_1 = bench_model[(bench_model['energy_use'].isna())|(bench_model['ghg_emission'].isna())].index\n",
    "    bench_model = bench_model.drop(drop_idx_1)\n",
    "    # Suppression des propriétés dont on ne connais pas le nombre d'étage\n",
    "    drop_idx_2 = bench_model[(bench_model[\"nf\"].isna())].index\n",
    "    bench_model = bench_model.drop(drop_idx_2)\n",
    "    # Regroupement de la classe NonResidential\n",
    "    bench_model['type']=bench_model['type'].replace('Nonresidential COS','NonResidential')\n",
    "    # Reset de l'index\n",
    "    bench_model = bench_model.reset_index(drop=True)\n",
    "    \n",
    "    return bench_model"
   ]
  },
  {
   "cell_type": "markdown",
   "id": "9a822821",
   "metadata": {},
   "source": [
    "## Data Visualisation Functions"
   ]
  },
  {
   "cell_type": "code",
   "execution_count": 15,
   "id": "c4a8176f",
   "metadata": {},
   "outputs": [],
   "source": [
    "def boxplot(x):\n",
    "    fig, ax = plt.subplots(figsize=(15,15))\n",
    "    ax.boxplot(x, vert = False)\n",
    "    plt.show()"
   ]
  },
  {
   "cell_type": "code",
   "execution_count": 1,
   "id": "b6a98108",
   "metadata": {},
   "outputs": [],
   "source": [
    "def barplot(x, y, data):\n",
    "    fig, ax = plt.subplots(figsize=(15,15))\n",
    "    sns.set_theme(style=\"whitegrid\") \n",
    "    ax = sns.barplot(x=x, y=y, data=data)\n",
    "    plt.show()"
   ]
  },
  {
   "cell_type": "code",
   "execution_count": 562,
   "id": "83ac2e79",
   "metadata": {},
   "outputs": [],
   "source": [
    "def seattle_map():\n",
    "    f = open(r\"C:\\Users\\Nabil\\Desktop\\Openclassrooms\\Projet4\\2016_seattle_city.geojson\", \"r\")\n",
    "    dep_gjs=geojson.load(f)\n",
    "    scl = [[0,\"rgb(150,0,90)\"],[0.125,\"rgb(0, 0, 200)\"],[0.25,\"rgb(0, 25, 255)\"],[0.375,\"rgb(0, 152, 255)\"],[0.5,\"rgb(44, 255, 150)\"],[0.625,\"rgb(151, 255, 0)\"],[0.75,\"rgb(255, 234, 0)\"],[0.875,\"rgb(255, 111, 0)\"],[1,\"rgb(255, 0, 0)\"]]\n",
    "    fig = px.choropleth(pd.DataFrame([[1,2],[1,2]],columns=['CD','color']), geojson=dep_gjs, color=\"color\",locations=\"CD\", featureidkey=\"properties.rowID\",projection=\"mercator\",color_continuous_scale=[\"#ffffff\",\"#eeeeee\"])\n",
    "    fig.update_layout(coloraxis_showscale=False)\n",
    "    fig.add_traces(go.Scattergeo(lat=bench_info.lat, lon=bench_info.lon, text=bench_model[\"id\"].astype('str')+' : '+bench_model[\"energy_use\"].astype('str'),marker = dict(size = 3,color = bench_model['energy_use'],colorscale = scl, colorbar = dict(titleside = \"right\", outlinecolor = \"rgba(68, 68, 68, 0)\"))))\n",
    "    fig.update_geos(fitbounds=\"locations\", visible=False)\n",
    "    fig.update_layout(margin={\"r\":0,\"t\":20,\"l\":0,\"b\":20})\n",
    "    fig.show()"
   ]
  },
  {
   "cell_type": "code",
   "execution_count": 485,
   "id": "d6b4c800",
   "metadata": {},
   "outputs": [],
   "source": [
    "def histogram(data, x):\n",
    "    fig, ax = plt.subplots(figsize=(15,15))\n",
    "    sns.set_theme(style=\"whitegrid\") \n",
    "    sns.histplot(data=data, x=x)\n",
    "    plt.show()"
   ]
  },
  {
   "cell_type": "markdown",
   "id": "f90051fb",
   "metadata": {},
   "source": [
    "# <p style = 'text-align:center'> Importation des données </p>"
   ]
  },
  {
   "cell_type": "code",
   "execution_count": 578,
   "id": "3c90dedc",
   "metadata": {},
   "outputs": [],
   "source": [
    "bench15_0 = pd.read_csv(r\"2015-building-energy-benchmarking.csv\")"
   ]
  },
  {
   "cell_type": "code",
   "execution_count": 579,
   "id": "21cc316f",
   "metadata": {},
   "outputs": [],
   "source": [
    "# bench15_0.CouncilDistrictCode.value_counts()"
   ]
  },
  {
   "cell_type": "code",
   "execution_count": 580,
   "id": "08241836",
   "metadata": {},
   "outputs": [],
   "source": [
    "# barplot('CouncilDistrictCode', 'SiteEnergyUse(kBtu)', bench15_0)"
   ]
  },
  {
   "cell_type": "code",
   "execution_count": 581,
   "id": "ddff85a7",
   "metadata": {},
   "outputs": [],
   "source": [
    "bench16_0 = pd.read_csv(r\"2016-building-energy-benchmarking.csv\")"
   ]
  },
  {
   "cell_type": "markdown",
   "id": "57a8c300",
   "metadata": {},
   "source": [
    "# <p style = 'text-align:center'> Choix des features </p>"
   ]
  },
  {
   "cell_type": "code",
   "execution_count": 582,
   "id": "d0970f7a",
   "metadata": {},
   "outputs": [],
   "source": [
    "# Suppression des outliers\n",
    "bench15_1 ,bench16_1 = outlier_cleaning(bench15_0), outlier_cleaning(bench16_0)"
   ]
  },
  {
   "cell_type": "code",
   "execution_count": 583,
   "id": "07fd7307",
   "metadata": {},
   "outputs": [],
   "source": [
    "# features à supprimer dans le dataset de 2015 et celui de 2016\n",
    "to_drop_15 = [\"DataYear\",\"YearBuilt\",'TaxParcelIdentificationNumber', 'Neighborhood','ListOfAllPropertyUseTypes','YearsENERGYSTARCertified','SiteEUI(kBtu/sf)', 'SiteEUIWN(kBtu/sf)', 'SourceEUI(kBtu/sf)', 'SourceEUIWN(kBtu/sf)', 'SiteEnergyUseWN(kBtu)', 'SteamUse(kBtu)', 'Electricity(kWh)', 'Electricity(kBtu)', 'NaturalGas(therms)', 'NaturalGas(kBtu)', 'OtherFuelUse(kBtu)','GHGEmissionsIntensity(kgCO2e/ft2)','DefaultData', 'Comment', 'ComplianceStatus', 'Outlier', '2010 Census Tracts', 'Seattle Police Department Micro Community Policing Plan Areas','City Council Districts', 'SPD Beats']\n",
    "to_drop_16 = ['DataYear', 'City', 'State', 'TaxParcelIdentificationNumber', 'Neighborhood', 'YearBuilt', 'ListOfAllPropertyUseTypes','YearsENERGYSTARCertified','SiteEUI(kBtu/sf)', 'SiteEUIWN(kBtu/sf)', 'SourceEUI(kBtu/sf)', 'SourceEUIWN(kBtu/sf)',  'SiteEnergyUseWN(kBtu)', 'SteamUse(kBtu)', 'Electricity(kWh)', 'Electricity(kBtu)', 'NaturalGas(therms)', 'NaturalGas(kBtu)', 'DefaultData', 'Comments', 'ComplianceStatus', 'Outlier', 'GHGEmissionsIntensity']\n",
    "\n",
    "# nouveaux noms pour les features qu'on garde dans le dataset de 2015 et 2016 \n",
    "new_names_15 = {'OSEBuildingID':'id', 'CouncilDistrictCode':'district_code' , 'BuildingType':'type', 'PrimaryPropertyType':'primary_type', 'PropertyName':'name','Location':'loc', 'NumberofBuildings':'nb', 'NumberofFloors':'nf','PropertyGFATotal':'total_gfa',  'PropertyGFAParking':'parking_gfa', 'PropertyGFABuilding(s)':'building_gfa', 'LargestPropertyUseType':'lput', 'LargestPropertyUseTypeGFA':'lput_gfa', 'SecondLargestPropertyUseType':'sput', 'SecondLargestPropertyUseTypeGFA':'sput_gfa', 'ThirdLargestPropertyUseType':'tput', 'ThirdLargestPropertyUseTypeGFA':'tput_gfa', 'ENERGYSTARScore':'energy_score', 'SiteEnergyUse(kBtu)':'energy_use', 'GHGEmissions(MetricTonsCO2e)':'ghg_emission', 'Zip Codes':'zip'}\n",
    "new_names_16 = {'OSEBuildingID':'id', 'CouncilDistrictCode':'district_code' ,'BuildingType':'type', 'PrimaryPropertyType':'primary_type', 'PropertyName':'name', 'Address':'adress', 'ZipCode':'zip', 'Latitude':'lat', 'Longitude':'lon', 'NumberofBuildings':'nb', 'NumberofFloors':'nf', 'PropertyGFATotal':'total_gfa', 'PropertyGFAParking':'parking_gfa', 'PropertyGFABuilding(s)':'building_gfa', 'LargestPropertyUseType':'lput', 'LargestPropertyUseTypeGFA':'lput_gfa', 'SecondLargestPropertyUseType':'sput', 'SecondLargestPropertyUseTypeGFA':'sput_gfa', 'ThirdLargestPropertyUseType':'tput', 'ThirdLargestPropertyUseTypeGFA':'tput_gfa', 'ENERGYSTARScore':'energy_score', 'SiteEnergyUse(kBtu)':'energy_use', 'TotalGHGEmissions':'ghg_emission'}"
   ]
  },
  {
   "cell_type": "code",
   "execution_count": 584,
   "id": "92151a13",
   "metadata": {},
   "outputs": [],
   "source": [
    "# features pour le dataset des informations des propriétés\n",
    "info_var = ['id', 'name', 'lat', 'lon', 'adress', 'energy_score', 'zip']\n",
    "\n",
    "#features pour le dataset des variables du modèle\n",
    "model_var = ['id', 'age', 'nb', 'nf', 'type', 'primary_type','district_code', 'building_gfa' ,'parking_gfa','total_gfa', 'lput', 'lput_gfa', 'sput', 'sput_gfa', 'tput', 'tput_gfa', 'energy_score', 'energy_use', 'ghg_emission']"
   ]
  },
  {
   "cell_type": "code",
   "execution_count": 585,
   "id": "1afd0991",
   "metadata": {},
   "outputs": [],
   "source": [
    "bench_info, bench_model = features_choices(bench15_1, bench16_1, to_drop_15, to_drop_16, new_names_15, new_names_16, info_var, model_var)"
   ]
  },
  {
   "cell_type": "code",
   "execution_count": 586,
   "id": "fd9ff566",
   "metadata": {},
   "outputs": [],
   "source": [
    "# bench_model"
   ]
  },
  {
   "cell_type": "markdown",
   "id": "98476364",
   "metadata": {},
   "source": [
    "# <p style = 'text-align:center'> Valeurs abbérentes </p>"
   ]
  },
  {
   "cell_type": "code",
   "execution_count": 587,
   "id": "9c078a3d",
   "metadata": {},
   "outputs": [],
   "source": [
    "negativ_area_index = bench_model[(bench_model[\"total_gfa\"]<0)|(bench_model[\"building_gfa\"]<0)|(bench_model[\"parking_gfa\"]<0)].index\n",
    "for idx in negativ_area_index:\n",
    "    bench_model.at[idx,\"building_gfa\"] = np.abs(bench_model.at[idx,\"building_gfa\"])\n",
    "    bench_model.at[idx,\"parking_gfa\"] = np.abs(bench_model.at[idx,\"parking_gfa\"])\n",
    "    bench_model.at[idx,\"total_gfa\"] = np.abs(bench_model.at[idx,\"total_gfa\"])"
   ]
  },
  {
   "cell_type": "code",
   "execution_count": 588,
   "id": "ca837a60",
   "metadata": {},
   "outputs": [],
   "source": [
    "# bench_model = bench_model.drop(bench_model[(bench_model.lput_gfa>bench_model.total_gfa)|(bench_model.sput_gfa>bench_model.total_gfa)|(bench_model.tput_gfa>bench_model.total_gfa)].index)"
   ]
  },
  {
   "cell_type": "code",
   "execution_count": 589,
   "id": "5770e3b4",
   "metadata": {},
   "outputs": [],
   "source": [
    "for idx in bench_model.index:\n",
    "    if (bench_model.at[idx,'total_gfa']) != (bench_model.at[idx,'parking_gfa'] + bench_model.at[idx,'building_gfa']):\n",
    "        bench_model.at[idx,'total_gfa'] = bench_model.at[idx,'parking_gfa'] + bench_model.at[idx,'building_gfa']"
   ]
  },
  {
   "cell_type": "code",
   "execution_count": null,
   "id": "790b51aa",
   "metadata": {},
   "outputs": [],
   "source": [
    "\n",
    "\n",
    "\n",
    "\n",
    "\n",
    "\n"
   ]
  },
  {
   "cell_type": "code",
   "execution_count": 352,
   "id": "04b896bb",
   "metadata": {},
   "outputs": [],
   "source": [
    "bench_model.loc[bench_model['id']==29069, \"sput_gfa\"] = 0\n",
    "bench_model.loc[bench_model['id']==29069, \"sput\"] = \"Aucun\"\n",
    "bench_model.loc[bench_model['id']==50002, \"parking_gfa\"] = bench_model.loc[bench_model['id']==50002,\"lput_gfa\"]\n",
    "bench_model.loc[bench_model['id']==50002, \"total_gfa\"] = bench_model.loc[bench_model['id']==50002,\"building_gfa\"]+bench_model.loc[bench_model['id']==50002,\"parking_gfa\"]\n",
    "bench_model = bench_model.drop(bench_model[bench_model.id==43].index)"
   ]
  },
  {
   "cell_type": "code",
   "execution_count": 292,
   "id": "b2df6074",
   "metadata": {},
   "outputs": [],
   "source": [
    "indexes_1 = bench_model[(~bench_model.sput.isna())&((bench_model.sput_gfa==0)|(bench_model.sput_gfa.isna()))].index\n",
    "indexes_2 = bench_model[(~bench_model.tput.isna())&((bench_model.tput_gfa==0)|(bench_model.tput_gfa.isna()))].index\n",
    "for idx in indexes_1:\n",
    "    bench_model.at[idx,\"sput\"]=\"Aucun\"\n",
    "for idx in indexes_2:\n",
    "    bench_model.at[idx,\"tput\"]=\"Aucun\""
   ]
  },
  {
   "cell_type": "code",
   "execution_count": 293,
   "id": "66003379",
   "metadata": {},
   "outputs": [],
   "source": [
    "for idx in bench_model[bench_model.parking_gfa!=0].index:\n",
    "    if (bench_model.at[idx,'lput']=='Parking'):\n",
    "        bench_model.at[idx,'lput_gfa'] = bench_model.at[idx,'parking_gfa']\n",
    "    if (bench_model.at[idx,'sput']=='Parking'):\n",
    "        bench_model.at[idx,'sput_gfa'] = bench_model.at[idx,'parking_gfa']\n",
    "    if (bench_model.at[idx,'tput']=='Parking'):\n",
    "        bench_model.at[idx,'tput_gfa'] = bench_model.at[idx,'parking_gfa']\n",
    "parking_idx = bench_model[(bench_model.lput=='Parking')|(bench_model.sput=='Parking')|(bench_model.tput=='Parking')].index\n",
    "for idx in parking_idx:\n",
    "    if (bench_model.at[idx,'parking_gfa']==0):\n",
    "        if bench_model.at[idx,'lput']=='Parking':\n",
    "            bench_model.at[idx,'parking_gfa']=bench_model.at[idx,'lput_gfa']\n",
    "        if bench_model.at[idx,'sput']=='Parking':\n",
    "            bench_model.at[idx,'parking_gfa']=bench_model.at[idx,'sput_gfa']\n",
    "        if bench_model.at[idx,'tput']=='Parking':\n",
    "            bench_model.at[idx,'parking_gfa']=bench_model.at[idx,'tput_gfa']"
   ]
  },
  {
   "cell_type": "code",
   "execution_count": 295,
   "id": "270a02bf",
   "metadata": {},
   "outputs": [],
   "source": [
    "lput_sputna_tputna_index = bench_model[(bench_model.lput_gfa>bench_model.total_gfa)].index\n",
    "for idx in lput_sputna_tputna_index:\n",
    "    bench_model.at[idx,'lput_gfa']=bench_model.at[idx,'total_gfa']"
   ]
  },
  {
   "cell_type": "code",
   "execution_count": 590,
   "id": "003702ad",
   "metadata": {},
   "outputs": [],
   "source": [
    "bench_model = bench_model.drop(bench_model[(bench_model.lput_gfa>bench_model.total_gfa)].index)"
   ]
  },
  {
   "cell_type": "code",
   "execution_count": 313,
   "id": "9c98c952",
   "metadata": {},
   "outputs": [
    {
     "data": {
      "text/html": [
       "<div>\n",
       "<style scoped>\n",
       "    .dataframe tbody tr th:only-of-type {\n",
       "        vertical-align: middle;\n",
       "    }\n",
       "\n",
       "    .dataframe tbody tr th {\n",
       "        vertical-align: top;\n",
       "    }\n",
       "\n",
       "    .dataframe thead th {\n",
       "        text-align: right;\n",
       "    }\n",
       "</style>\n",
       "<table border=\"1\" class=\"dataframe\">\n",
       "  <thead>\n",
       "    <tr style=\"text-align: right;\">\n",
       "      <th></th>\n",
       "      <th>id</th>\n",
       "      <th>age</th>\n",
       "      <th>nb</th>\n",
       "      <th>nf</th>\n",
       "      <th>type</th>\n",
       "      <th>primary_type</th>\n",
       "      <th>building_gfa</th>\n",
       "      <th>parking_gfa</th>\n",
       "      <th>total_gfa</th>\n",
       "      <th>lput</th>\n",
       "      <th>lput_gfa</th>\n",
       "      <th>sput</th>\n",
       "      <th>sput_gfa</th>\n",
       "      <th>tput</th>\n",
       "      <th>tput_gfa</th>\n",
       "      <th>energy_score</th>\n",
       "      <th>energy_use</th>\n",
       "      <th>ghg_emission</th>\n",
       "      <th>lput_2</th>\n",
       "      <th>sput_2</th>\n",
       "      <th>tput_2</th>\n",
       "    </tr>\n",
       "  </thead>\n",
       "  <tbody>\n",
       "  </tbody>\n",
       "</table>\n",
       "</div>"
      ],
      "text/plain": [
       "Empty DataFrame\n",
       "Columns: [id, age, nb, nf, type, primary_type, building_gfa, parking_gfa, total_gfa, lput, lput_gfa, sput, sput_gfa, tput, tput_gfa, energy_score, energy_use, ghg_emission, lput_2, sput_2, tput_2]\n",
       "Index: []"
      ]
     },
     "execution_count": 313,
     "metadata": {},
     "output_type": "execute_result"
    }
   ],
   "source": [
    "bench_model[(bench_model[\"building_gfa\"]<0)|(bench_model[\"sput_gfa\"]<0)|(bench_model[\"tput_gfa\"]<0)]"
   ]
  },
  {
   "cell_type": "markdown",
   "id": "af1dfa8a",
   "metadata": {},
   "source": [
    "# <p style = 'text-align:center'> Imputations </p>"
   ]
  },
  {
   "cell_type": "code",
   "execution_count": 591,
   "id": "1c80ffb6",
   "metadata": {},
   "outputs": [],
   "source": [
    "bench_model_cleaned = property_use_types_cleansing_and_imputation(bench_model)"
   ]
  },
  {
   "cell_type": "code",
   "execution_count": 592,
   "id": "04c4cb64",
   "metadata": {},
   "outputs": [
    {
     "name": "stdout",
     "output_type": "stream",
     "text": [
      "<class 'pandas.core.frame.DataFrame'>\n",
      "RangeIndex: 3081 entries, 0 to 3080\n",
      "Data columns (total 22 columns):\n",
      " #   Column         Non-Null Count  Dtype  \n",
      "---  ------         --------------  -----  \n",
      " 0   id             3081 non-null   int64  \n",
      " 1   age            3081 non-null   int64  \n",
      " 2   nb             3081 non-null   float64\n",
      " 3   nf             3081 non-null   float64\n",
      " 4   type           3081 non-null   object \n",
      " 5   primary_type   3081 non-null   object \n",
      " 6   district_code  3081 non-null   int64  \n",
      " 7   building_gfa   3081 non-null   int64  \n",
      " 8   parking_gfa    3081 non-null   int64  \n",
      " 9   total_gfa      3081 non-null   int64  \n",
      " 10  lput           3081 non-null   object \n",
      " 11  lput_gfa       3081 non-null   float64\n",
      " 12  sput           3081 non-null   object \n",
      " 13  sput_gfa       3081 non-null   float64\n",
      " 14  tput           3081 non-null   object \n",
      " 15  tput_gfa       3081 non-null   float64\n",
      " 16  energy_score   2362 non-null   float64\n",
      " 17  energy_use     3081 non-null   float64\n",
      " 18  ghg_emission   3081 non-null   float64\n",
      " 19  lput_2         3081 non-null   object \n",
      " 20  sput_2         3081 non-null   object \n",
      " 21  tput_2         3081 non-null   object \n",
      "dtypes: float64(8), int64(6), object(8)\n",
      "memory usage: 529.7+ KB\n"
     ]
    }
   ],
   "source": [
    "bench_model_cleaned.info()"
   ]
  },
  {
   "cell_type": "code",
   "execution_count": 565,
   "id": "fe9531b9",
   "metadata": {},
   "outputs": [],
   "source": [
    "# boxplot(bench_model_cleaned['energy_use'])"
   ]
  },
  {
   "cell_type": "code",
   "execution_count": 564,
   "id": "b83b99ef",
   "metadata": {},
   "outputs": [],
   "source": [
    "# seattle_map()"
   ]
  },
  {
   "cell_type": "code",
   "execution_count": 593,
   "id": "9984a970",
   "metadata": {},
   "outputs": [],
   "source": [
    "bench_model_cleaned.to_excel(\"benchmark_cleaned_opt.xlsx\", index=False)"
   ]
  },
  {
   "cell_type": "code",
   "execution_count": null,
   "id": "8276545f",
   "metadata": {},
   "outputs": [],
   "source": []
  },
  {
   "cell_type": "code",
   "execution_count": null,
   "id": "35b1de57",
   "metadata": {},
   "outputs": [],
   "source": []
  }
 ],
 "metadata": {
  "kernelspec": {
   "display_name": "Python 3 (ipykernel)",
   "language": "python",
   "name": "python3"
  },
  "language_info": {
   "codemirror_mode": {
    "name": "ipython",
    "version": 3
   },
   "file_extension": ".py",
   "mimetype": "text/x-python",
   "name": "python",
   "nbconvert_exporter": "python",
   "pygments_lexer": "ipython3",
   "version": "3.10.4"
  }
 },
 "nbformat": 4,
 "nbformat_minor": 5
}
