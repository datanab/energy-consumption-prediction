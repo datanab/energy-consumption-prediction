{
 "cells": [
  {
   "cell_type": "code",
   "execution_count": 1,
   "id": "1ca1fdc9",
   "metadata": {},
   "outputs": [],
   "source": [
    "import pandas as pd\n",
    "pd.set_option('display.max_columns',None)\n",
    "pd.set_option('display.max_rows',None)"
   ]
  },
  {
   "cell_type": "code",
   "execution_count": 2,
   "id": "d2c8f41a",
   "metadata": {},
   "outputs": [],
   "source": [
    "import numpy as np"
   ]
  },
  {
   "cell_type": "code",
   "execution_count": 3,
   "id": "272577f4",
   "metadata": {},
   "outputs": [],
   "source": [
    "import matplotlib.pyplot as plt"
   ]
  },
  {
   "cell_type": "code",
   "execution_count": 4,
   "id": "c1f35bac",
   "metadata": {},
   "outputs": [],
   "source": [
    "import seaborn as sns"
   ]
  },
  {
   "cell_type": "code",
   "execution_count": 5,
   "id": "bac67753",
   "metadata": {},
   "outputs": [],
   "source": [
    "def features_choices_15(bench,drop_list,names,info,model):\n",
    "    bench[\"age\"] = bench[\"DataYear\"]-bench[\"YearBuilt\"]\n",
    "    bench = bench.drop(columns=drop_list)\n",
    "    bench = bench.rename(names,axis='columns')\n",
    "    bench['lat']=bench['loc'].apply(lambda r:r.split('\\'')[3]).astype('float')\n",
    "    bench['lon']=bench['loc'].apply(lambda r:r.split('\\'')[7]).astype('float')\n",
    "    bench['adress']=bench['loc'].apply(lambda r:r.split('\\'')[11].split(',')[0].split(\"\\\"\")[3])\n",
    "    bench = bench.drop(columns=['loc'])\n",
    "    bench_info = bench[info]\n",
    "    bench_model = bench[model]\n",
    "    return bench_info, bench_model"
   ]
  },
  {
   "cell_type": "code",
   "execution_count": 6,
   "id": "124cbbbc",
   "metadata": {},
   "outputs": [],
   "source": [
    "def features_choices_16(bench,drop_list,names,info,model):\n",
    "    bench[\"age\"] = bench[\"DataYear\"]-bench[\"YearBuilt\"]\n",
    "    bench = bench.drop(columns=drop_list)\n",
    "    bench = bench.rename(names,axis='columns')\n",
    "    bench_info = bench[info]\n",
    "    bench_model = bench[model]\n",
    "    return bench_info, bench_model"
   ]
  },
  {
   "cell_type": "code",
   "execution_count": 7,
   "id": "1b93543f",
   "metadata": {},
   "outputs": [],
   "source": [
    "def features_choices(bench15_0, bench16_0, to_drop_15, to_drop_16, new_names_15, new_names_16, info_var, model_var):\n",
    "    bench15_info, bench15_model = features_choices_15(bench15_0, to_drop_15, new_names_15, info_var, model_var)\n",
    "    bench16_info, bench16_model = features_choices_16(bench16_0, to_drop_16, new_names_16, info_var, model_var)\n",
    "    bench_info = pd.concat([bench15_info, bench16_info],axis=0)\n",
    "    bench_info = bench_info.drop_duplicates(subset = [\"id\"]).reset_index(drop=True)\n",
    "    bench_model = pd.concat([bench15_model, bench16_model],axis=0)\n",
    "    bench_model = bench_model.drop_duplicates(subset = [\"id\"]).reset_index(drop=True)    \n",
    "    return bench_info, bench_model"
   ]
  },
  {
   "cell_type": "code",
   "execution_count": 8,
   "id": "c4a8176f",
   "metadata": {},
   "outputs": [],
   "source": [
    "def boxplot(x):\n",
    "    fig, ax = plt.subplots(figsize=(15,15))\n",
    "    ax.boxplot(x, vert = False)\n",
    "    plt.show()"
   ]
  },
  {
   "cell_type": "code",
   "execution_count": 9,
   "id": "49df6ad1",
   "metadata": {},
   "outputs": [],
   "source": [
    "def cleansing_and_imputation(bench_model):\n",
    "    to_complete_cat = ['lput', 'sput', 'tput']\n",
    "    for cat in to_complete_cat:\n",
    "        bench_model[cat] = bench_model[cat].fillna('Aucun')\n",
    "        bench_model[cat+'_gfa'] = bench_model[cat+'_gfa'].fillna(0)\n",
    "    drop_idx = bench_model[(bench_model['energy_use'].isna())|(bench_model['ghg_emission'].isna())|(bench_model[\"nf\"].isna())|(bench_model[\"total_gfa\"]<0)].index\n",
    "    bench_model = bench_model.drop(drop_idx)\n",
    "    bench_model = bench_model.sort_values(by='id')\n",
    "    return bench_model"
   ]
  },
  {
   "cell_type": "code",
   "execution_count": 34,
   "id": "76ecc5ed",
   "metadata": {},
   "outputs": [],
   "source": [
    "def impute_lput():\n",
    "    unchanged = [\"Hotel\",\"Retail Store\",\"Non-Refrigerated Warehouse\",\"Other\",\"Distribution Center\",\"Medical Office\",\"Worship Facility\",\"Laboratory\",\"Refrigerated Warehouse\",\"Supermarket/Grocery Store\", \"Restaurant\", \"College/University\",\"Senior Care Community\",\"Self-Storage Facility\"]\n",
    "    for idx in bench_model[(~bench_model[\"primary_type\"].isna())&(bench_model[\"lput\"].isna())].index:\n",
    "        if (bench_model.loc[idx,\"primary_type\"]==\"Large Office\")|(bench_model.loc[idx,\"primary_type\"]==\"Small- and Mid-Sized Office\"):\n",
    "            bench_model.at[idx,\"lput\"] = \"Office\"\n",
    "            bench_model.at[idx,\"lput_gfa\"] = bench_model.loc[idx,\"building_gfa\"]    \n",
    "        if \"Multifamily\" in bench_model.loc[idx,\"primary_type\"]:\n",
    "            bench_model.at[idx,\"lput\"] = \"Multifamily Housing\"\n",
    "            bench_model.at[idx,\"lput_gfa\"] = bench_model.loc[idx,\"building_gfa\"]\n",
    "        if (bench_model.loc[idx,\"primary_type\"]==\"SPS-District K-12\"):\n",
    "            bench_model.at[idx,\"lput\"] = \"K-12 School\"\n",
    "            bench_model.at[idx,\"lput_gfa\"] = bench_model.loc[idx,\"building_gfa\"] \n",
    "        if (bench_model.loc[idx,\"primary_type\"]==\"Hospital\"):\n",
    "            bench_model.at[idx,\"lput\"] = \"Hospital (General Medical & Surgical)\"\n",
    "            bench_model.at[idx,\"lput_gfa\"] = bench_model.loc[idx,\"building_gfa\"]\n",
    "        if idx in [649, 2262, 2716]:\n",
    "            bench_model.at[idx,\"lput\"] = \"Retail Store\"\n",
    "            bench_model.at[idx,\"lput_gfa\"] = bench_model.loc[idx,\"building_gfa\"]\n",
    "        if idx==347:\n",
    "            bench_model.at[idx,\"lput\"] = \"Medical Office\"\n",
    "            bench_model.at[idx,\"lput_gfa\"] = bench_model.loc[idx,\"building_gfa\"]\n",
    "        if idx==309:\n",
    "            bench_model.at[idx,\"lput\"] = \"Other\"\n",
    "            bench_model.at[idx,\"lput_gfa\"] = bench_model.loc[idx,\"building_gfa\"]\n",
    "        if bench_model.loc[idx,\"primary_type\"] in unchanged:\n",
    "            bench_model.at[idx,\"lput\"] = bench_model.loc[idx,\"primary_type\"]\n",
    "            bench_model.at[idx,\"lput_gfa\"] = bench_model.loc[idx,\"building_gfa\"] "
   ]
  },
  {
   "cell_type": "code",
   "execution_count": 117,
   "id": "e617e2b2",
   "metadata": {},
   "outputs": [],
   "source": [
    "def compute_lput_2(lput):\n",
    "    lput_2 = 'moderate_energy_use_lput'\n",
    "    if lput in ['College/University', 'Hospital (General Medical & Surgical)', 'Data Center']:\n",
    "        lput_2 = 'very_high_energy_use_lput'\n",
    "    if lput in ['Convention Center','Courthouse','Urgent Care/Clinic/Other Outpatient', 'Laboratory', 'Other - Mall','Parking', 'Other - Entertainment/Public Assembly', 'Lifestyle Center', 'Wholesale Club/Supercenter', 'Medical Office', 'Police Station', 'Hotel', 'Other']:\n",
    "        lput_2 = 'high_energy_use_lput'\n",
    "    if lput in ['Supermarket/Grocery Store', 'Office', 'Senior Care Community', 'Other - Restaurant/Bar', 'Restaurant', 'Museum', 'Fitness Center/Health Club/Gym', 'Other/Specialty Hospital', 'Strip Mall', 'Library', 'Retail Store', 'Residence Hall/Dormitory', 'Other - Recreation', 'Other - Education', 'Manufacturing/Industrial Plant', 'K-12 School', 'Refrigerated Warehouse']:\n",
    "        lput_2 = 'moderate_energy_use_lput'\n",
    "    if lput in ['Movie Theater', 'Other - Services', 'Social/Meeting Hall', 'Personal Services (Health/Beauty, Dry Cleaning, etc)', 'Distribution Center', 'Automobile Dealership', 'Multifamily Housing', 'Adult Education', 'Other - Utility', 'Financial Office', 'Non-Refrigerated Warehouse', 'Other - Lodging/Residential', 'Performing Arts', 'Pre-school/Daycare', 'Bank Branch', 'Residential Care Facility', 'Worship Facility', 'Repair Services (Vehicle, Shoe, Locksmith, etc)', 'Other - Public Services']:\n",
    "        lput_2 = 'low_energy_use_lput'\n",
    "    if lput in ['Prison/Incarceration', 'Self-Storage Facility', 'Outpatient Rehabilitation/Physical Therapy', 'Food Service']:\n",
    "        lput_2 = 'very_low_energy_use_lput'   \n",
    "    return lput_2"
   ]
  },
  {
   "cell_type": "code",
   "execution_count": 132,
   "id": "434f3215",
   "metadata": {},
   "outputs": [],
   "source": [
    "def compute_sput_2(sput):\n",
    "    sput_2 = 'moderate_energy_use_sput'\n",
    "    if sput in ['Data Center', 'Hospital (General Medical & Surgical)', 'Laboratory', 'Hotel', 'College/University', 'Other - Recreation', 'Courthouse', 'Other/Specialty Hospital']:\n",
    "        sput_2 = 'very_high_energy_use_sput'\n",
    "    if sput in ['Convenience Store without Gas Station', 'Movie Theater', 'Multifamily Housing', 'Supermarket/Grocery Store', 'Other - Entertainment/Public Assembly', 'Performing Arts', 'Other - Restaurant/Bar']:\n",
    "        sput_2 = 'high_energy_use_sput'\n",
    "    if sput in ['Parking', 'Repair Services (Vehicle, Shoe, Locksmith, etc)', 'Adult Education', 'Office', 'Other - Services', 'Restaurant', 'Senior Care Community', 'Manufacturing/Industrial Plant', 'Financial Office', 'Food Sales', 'Retail Store','Aucun']:\n",
    "        sput_2 = 'moderate_energy_use_sput'\n",
    "    if sput in ['Other - Public Services', 'Swimming Pool', 'Distribution Center', 'Other', 'Bar/Nightclub', 'Fitness Center/Health Club/Gym', 'Medical Office', 'Non-Refrigerated Warehouse', 'Food Service', 'Self-Storage Facility', 'Bank Branch', 'Worship Facility', 'Vocational School', 'Museum']:\n",
    "        sput_2 = 'low_energy_use_sput'\n",
    "    if sput in ['K-12 School', 'Other - Lodging/Residential', 'Other - Education', 'Refrigerated Warehouse', 'Residence Hall/Dormitory']:\n",
    "        sput_2 = 'very_low_energy_use_sput'   \n",
    "    return sput_2"
   ]
  },
  {
   "cell_type": "code",
   "execution_count": 159,
   "id": "48d88393",
   "metadata": {},
   "outputs": [],
   "source": [
    "def compute_tput_2(tput):\n",
    "    tput_2 = 'moderate_energy_use_tput'\n",
    "    if tput in ['Convenience Store without Gas Station', 'Worship Facility', 'Laboratory']:\n",
    "        tput_2 = 'high_energy_use_tput'\n",
    "    if tput in ['Fitness Center/Health Club/Gym', 'Data Center', 'Bank Branch', 'Other - Recreation', 'Other - Restaurant/Bar', 'Enclosed Mall', 'Refrigerated Warehouse', 'Supermarket/Grocery Store', 'Financial Office', 'Other', 'Residence Hall/Dormitory', 'K-12 School', 'Multifamily Housing', 'Food Sales', 'Personal Services (Health/Beauty, Dry Cleaning, etc)', 'Medical Office', 'Swimming Pool', 'Parking']:\n",
    "        tput_2 = 'moderate_energy_use_tput'\n",
    "    if tput in ['Manufacturing/Industrial Plant', 'Other - Lodging/Residential', 'College/University', 'Food Service', 'Restaurant', 'Other - Services', 'Distribution Center', 'Retail Store', 'Bar/Nightclub', 'Social/Meeting Hall', 'Office', 'Other - Entertainment/Public Assembly', 'Non-Refrigerated Warehouse', 'Strip Mall', 'Aucun', 'Other - Public Services', 'Self-Storage Facility', 'Fast Food Restaurant', 'Pre-school/Daycare', 'Other - Technology/Science']:\n",
    "        tput_2 = 'low_energy_use_tput'  \n",
    "    return tput_2"
   ]
  },
  {
   "cell_type": "code",
   "execution_count": 168,
   "id": "16767f78",
   "metadata": {},
   "outputs": [],
   "source": [
    "bench15_0 = pd.read_csv(r\"2015-building-energy-benchmarking.csv\")"
   ]
  },
  {
   "cell_type": "code",
   "execution_count": 169,
   "id": "d49ae06f",
   "metadata": {},
   "outputs": [],
   "source": [
    "bench16_0 = pd.read_csv(r\"2016-building-energy-benchmarking.csv\")"
   ]
  },
  {
   "cell_type": "code",
   "execution_count": 170,
   "id": "07fd7307",
   "metadata": {},
   "outputs": [],
   "source": [
    "to_drop_15 = [\"DataYear\",\"YearBuilt\",'TaxParcelIdentificationNumber', 'CouncilDistrictCode', 'Neighborhood','PropertyGFAParking','ListOfAllPropertyUseTypes','YearsENERGYSTARCertified','SiteEUI(kBtu/sf)', 'SiteEUIWN(kBtu/sf)', 'SourceEUI(kBtu/sf)', 'SourceEUIWN(kBtu/sf)', 'SiteEnergyUseWN(kBtu)', 'SteamUse(kBtu)', 'Electricity(kWh)', 'Electricity(kBtu)', 'NaturalGas(therms)', 'NaturalGas(kBtu)', 'OtherFuelUse(kBtu)','GHGEmissionsIntensity(kgCO2e/ft2)','DefaultData', 'Comment', 'ComplianceStatus', 'Outlier', '2010 Census Tracts', 'Seattle Police Department Micro Community Policing Plan Areas','City Council Districts', 'SPD Beats']"
   ]
  },
  {
   "cell_type": "code",
   "execution_count": 171,
   "id": "01e5434d",
   "metadata": {},
   "outputs": [],
   "source": [
    "new_names_15 = {'OSEBuildingID':'id', 'BuildingType':'type', 'PrimaryPropertyType':'primary_type', 'PropertyName':'name','Location':'loc', 'NumberofBuildings':'nb', 'NumberofFloors':'nf', 'PropertyGFATotal':'total_gfa', 'PropertyGFABuilding(s)':'building_gfa', 'LargestPropertyUseType':'lput', 'LargestPropertyUseTypeGFA':'lput_gfa', 'SecondLargestPropertyUseType':'sput', 'SecondLargestPropertyUseTypeGFA':'sput_gfa', 'ThirdLargestPropertyUseType':'tput', 'ThirdLargestPropertyUseTypeGFA':'tput_gfa', 'ENERGYSTARScore':'energy_score', 'SiteEnergyUse(kBtu)':'energy_use', 'GHGEmissions(MetricTonsCO2e)':'ghg_emission', 'Zip Codes':'zip'}"
   ]
  },
  {
   "cell_type": "code",
   "execution_count": 172,
   "id": "f70d5898",
   "metadata": {},
   "outputs": [],
   "source": [
    "new_names_16 = {'OSEBuildingID':'id',  'BuildingType':'type', 'PrimaryPropertyType':'primary_type', 'PropertyName':'name', 'Address':'adress', 'ZipCode':'zip', 'Latitude':'lat', 'Longitude':'lon', 'NumberofBuildings':'nb', 'NumberofFloors':'nf', 'PropertyGFATotal':'total_gfa', 'PropertyGFABuilding(s)':'building_gfa', 'LargestPropertyUseType':'lput', 'LargestPropertyUseTypeGFA':'lput_gfa', 'SecondLargestPropertyUseType':'sput', 'SecondLargestPropertyUseTypeGFA':'sput_gfa', 'ThirdLargestPropertyUseType':'tput', 'ThirdLargestPropertyUseTypeGFA':'tput_gfa', 'ENERGYSTARScore':'energy_score', 'SiteEnergyUse(kBtu)':'energy_use', 'TotalGHGEmissions':'ghg_emission'}"
   ]
  },
  {
   "cell_type": "code",
   "execution_count": 173,
   "id": "6ac3b61d",
   "metadata": {},
   "outputs": [],
   "source": [
    "to_drop_16 = ['DataYear','City', 'State','TaxParcelIdentificationNumber','CouncilDistrictCode', 'Neighborhood','YearBuilt','PropertyGFAParking','ListOfAllPropertyUseTypes','YearsENERGYSTARCertified','SiteEUI(kBtu/sf)', 'SiteEUIWN(kBtu/sf)', 'SourceEUI(kBtu/sf)', 'SourceEUIWN(kBtu/sf)',  'SiteEnergyUseWN(kBtu)', 'SteamUse(kBtu)', 'Electricity(kWh)', 'Electricity(kBtu)', 'NaturalGas(therms)', 'NaturalGas(kBtu)', 'DefaultData', 'Comments', 'ComplianceStatus', 'Outlier', 'GHGEmissionsIntensity']"
   ]
  },
  {
   "cell_type": "code",
   "execution_count": 174,
   "id": "92151a13",
   "metadata": {},
   "outputs": [],
   "source": [
    "info_var = ['id', 'name', 'lat', 'lon', 'adress', 'energy_score', 'zip']"
   ]
  },
  {
   "cell_type": "code",
   "execution_count": 175,
   "id": "088cb976",
   "metadata": {},
   "outputs": [],
   "source": [
    "model_var = ['id', 'age', 'nb', 'nf', 'type', 'primary_type', 'building_gfa' ,'total_gfa', 'lput', 'lput_gfa', 'sput', 'sput_gfa', 'tput', 'tput_gfa', 'energy_score', 'energy_use', 'ghg_emission']"
   ]
  },
  {
   "cell_type": "code",
   "execution_count": 176,
   "id": "1afd0991",
   "metadata": {},
   "outputs": [],
   "source": [
    "bench_info, bench_model = features_choices(bench15_0, bench16_0, to_drop_15, to_drop_16, new_names_15, new_names_16, info_var, model_var)"
   ]
  },
  {
   "cell_type": "code",
   "execution_count": 177,
   "id": "ca837a60",
   "metadata": {},
   "outputs": [],
   "source": [
    "bench_model = bench_model.drop(bench_model[(bench_model.lput_gfa>bench_model.total_gfa)|(bench_model.sput_gfa>bench_model.total_gfa)|(bench_model.tput_gfa>bench_model.total_gfa)].index)"
   ]
  },
  {
   "cell_type": "code",
   "execution_count": 178,
   "id": "1c80ffb6",
   "metadata": {},
   "outputs": [],
   "source": [
    "impute_lput()"
   ]
  },
  {
   "cell_type": "code",
   "execution_count": 179,
   "id": "592e8560",
   "metadata": {},
   "outputs": [],
   "source": [
    "bench_model = bench_model.drop(bench_model[bench_model[\"energy_use\"]>2*10**7].index)"
   ]
  },
  {
   "cell_type": "code",
   "execution_count": 180,
   "id": "c7fa9912",
   "metadata": {},
   "outputs": [],
   "source": [
    "bench_model['lput_2'] = bench_model['lput'].apply(compute_lput_2)"
   ]
  },
  {
   "cell_type": "code",
   "execution_count": 181,
   "id": "cc86ccf3",
   "metadata": {},
   "outputs": [],
   "source": [
    "bench_model['sput_2'] = bench_model['sput'].apply(compute_sput_2)"
   ]
  },
  {
   "cell_type": "code",
   "execution_count": 182,
   "id": "b6826c2a",
   "metadata": {},
   "outputs": [],
   "source": [
    "bench_model['tput_2'] = bench_model['sput'].apply(compute_tput_2)"
   ]
  },
  {
   "cell_type": "code",
   "execution_count": 183,
   "id": "b6a98108",
   "metadata": {},
   "outputs": [
    {
     "data": {
      "image/png": "[encoded data removed]",
      "text/plain": [
       "<Figure size 1080x1080 with 1 Axes>"
      ]
     },
     "metadata": {},
     "output_type": "display_data"
    }
   ],
   "source": [
    "fig, ax = plt.subplots(figsize=(15,15))\n",
    "sns.set_theme(style=\"whitegrid\") \n",
    "ax = sns.barplot(x=\"energy_use\", y=\"tput_2\", data=bench_model)\n",
    "# ax = sns.countplot(y='lput', data=)"
   ]
  },
  {
   "cell_type": "code",
   "execution_count": 184,
   "id": "04c4cb64",
   "metadata": {},
   "outputs": [
    {
     "name": "stdout",
     "output_type": "stream",
     "text": [
      "<class 'pandas.core.frame.DataFrame'>\n",
      "Int64Index: 2991 entries, 0 to 3431\n",
      "Data columns (total 20 columns):\n",
      " #   Column        Non-Null Count  Dtype  \n",
      "---  ------        --------------  -----  \n",
      " 0   id            2991 non-null   int64  \n",
      " 1   age           2991 non-null   int64  \n",
      " 2   nb            2990 non-null   float64\n",
      " 3   nf            2987 non-null   float64\n",
      " 4   type          2991 non-null   object \n",
      " 5   primary_type  2991 non-null   object \n",
      " 6   building_gfa  2991 non-null   int64  \n",
      " 7   total_gfa     2991 non-null   int64  \n",
      " 8   lput          2991 non-null   object \n",
      " 9   lput_gfa      2991 non-null   float64\n",
      " 10  sput          1413 non-null   object \n",
      " 11  sput_gfa      1413 non-null   float64\n",
      " 12  tput          499 non-null    object \n",
      " 13  tput_gfa      499 non-null    float64\n",
      " 14  energy_score  2303 non-null   float64\n",
      " 15  energy_use    2982 non-null   float64\n",
      " 16  ghg_emission  2981 non-null   float64\n",
      " 17  lput_2        2991 non-null   object \n",
      " 18  sput_2        2991 non-null   object \n",
      " 19  tput_2        2991 non-null   object \n",
      "dtypes: float64(8), int64(4), object(8)\n",
      "memory usage: 490.7+ KB\n"
     ]
    }
   ],
   "source": [
    "bench_model.info()"
   ]
  },
  {
   "cell_type": "code",
   "execution_count": 185,
   "id": "7d65227a",
   "metadata": {},
   "outputs": [],
   "source": [
    "# print(list(bench_model.columns))"
   ]
  },
  {
   "cell_type": "code",
   "execution_count": 186,
   "id": "5d1b79c7",
   "metadata": {},
   "outputs": [],
   "source": [
    "bench_model_cleaned = cleansing_and_imputation(bench_model)"
   ]
  },
  {
   "cell_type": "code",
   "execution_count": 187,
   "id": "ca65b336",
   "metadata": {},
   "outputs": [
    {
     "name": "stdout",
     "output_type": "stream",
     "text": [
      "<class 'pandas.core.frame.DataFrame'>\n",
      "Int64Index: 2977 entries, 0 to 3431\n",
      "Data columns (total 20 columns):\n",
      " #   Column        Non-Null Count  Dtype  \n",
      "---  ------        --------------  -----  \n",
      " 0   id            2977 non-null   int64  \n",
      " 1   age           2977 non-null   int64  \n",
      " 2   nb            2977 non-null   float64\n",
      " 3   nf            2977 non-null   float64\n",
      " 4   type          2977 non-null   object \n",
      " 5   primary_type  2977 non-null   object \n",
      " 6   building_gfa  2977 non-null   int64  \n",
      " 7   total_gfa     2977 non-null   int64  \n",
      " 8   lput          2977 non-null   object \n",
      " 9   lput_gfa      2977 non-null   float64\n",
      " 10  sput          2977 non-null   object \n",
      " 11  sput_gfa      2977 non-null   float64\n",
      " 12  tput          2977 non-null   object \n",
      " 13  tput_gfa      2977 non-null   float64\n",
      " 14  energy_score  2302 non-null   float64\n",
      " 15  energy_use    2977 non-null   float64\n",
      " 16  ghg_emission  2977 non-null   float64\n",
      " 17  lput_2        2977 non-null   object \n",
      " 18  sput_2        2977 non-null   object \n",
      " 19  tput_2        2977 non-null   object \n",
      "dtypes: float64(8), int64(4), object(8)\n",
      "memory usage: 488.4+ KB\n"
     ]
    }
   ],
   "source": [
    "bench_model_cleaned.info()"
   ]
  },
  {
   "cell_type": "code",
   "execution_count": 50,
   "id": "fe9b7c54",
   "metadata": {},
   "outputs": [],
   "source": [
    "# boxplot(bench_model_cleaned[\"energy_use\"])"
   ]
  },
  {
   "cell_type": "code",
   "execution_count": 188,
   "id": "9984a970",
   "metadata": {},
   "outputs": [],
   "source": [
    "bench_model_cleaned.to_excel(\"benchmark_cleaned_opt.xlsx\", index=False)"
   ]
  },
  {
   "cell_type": "code",
   "execution_count": null,
   "id": "8276545f",
   "metadata": {},
   "outputs": [],
   "source": []
  }
 ],
 "metadata": {
  "kernelspec": {
   "display_name": "Python 3 (ipykernel)",
   "language": "python",
   "name": "python3"
  },
  "language_info": {
   "codemirror_mode": {
    "name": "ipython",
    "version": 3
   },
   "file_extension": ".py",
   "mimetype": "text/x-python",
   "name": "python",
   "nbconvert_exporter": "python",
   "pygments_lexer": "ipython3",
   "version": "3.10.4"
  }
 },
 "nbformat": 4,
 "nbformat_minor": 5
}
