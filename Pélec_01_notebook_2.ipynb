{
 "cells": [
  {
   "cell_type": "code",
   "execution_count": 165,
   "id": "1ca1fdc9",
   "metadata": {},
   "outputs": [],
   "source": [
    "import pandas as pd\n",
    "pd.set_option('display.max_columns',None)\n",
    "pd.set_option('display.max_rows',None)"
   ]
  },
  {
   "cell_type": "code",
   "execution_count": 206,
   "id": "a192f875",
   "metadata": {},
   "outputs": [],
   "source": [
    "from IPython.display import Markdown, HTML"
   ]
  },
  {
   "cell_type": "code",
   "execution_count": 167,
   "id": "d2c8f41a",
   "metadata": {},
   "outputs": [],
   "source": [
    "import numpy as np"
   ]
  },
  {
   "cell_type": "code",
   "execution_count": 168,
   "id": "272577f4",
   "metadata": {},
   "outputs": [],
   "source": [
    "import matplotlib.pyplot as plt"
   ]
  },
  {
   "cell_type": "code",
   "execution_count": 169,
   "id": "c1f35bac",
   "metadata": {},
   "outputs": [],
   "source": [
    "import seaborn as sns"
   ]
  },
  {
   "cell_type": "code",
   "execution_count": 170,
   "id": "a842abe6",
   "metadata": {},
   "outputs": [],
   "source": [
    "import geojson\n",
    "import plotly.express as px\n",
    "import plotly.graph_objects as go"
   ]
  },
  {
   "cell_type": "markdown",
   "id": "8570334d",
   "metadata": {},
   "source": [
    "# <p style = 'text-align:center'> Fonctions </p>"
   ]
  },
  {
   "cell_type": "markdown",
   "id": "5411069a",
   "metadata": {},
   "source": [
    "## Features engineering fonctions"
   ]
  },
  {
   "cell_type": "code",
   "execution_count": 171,
   "id": "bac67753",
   "metadata": {},
   "outputs": [],
   "source": [
    "def features_choices_15(bench,drop_list,names,info,model):\n",
    "    bench[\"age\"] = bench[\"DataYear\"]-bench[\"YearBuilt\"]\n",
    "    bench = bench.drop(columns=drop_list)\n",
    "    bench = bench.rename(names,axis='columns')\n",
    "    bench['lat']=bench['loc'].apply(lambda r:r.split('\\'')[3]).astype('float')\n",
    "    bench['lon']=bench['loc'].apply(lambda r:r.split('\\'')[7]).astype('float')\n",
    "    bench['adress']=bench['loc'].apply(lambda r:r.split('\\'')[11].split(',')[0].split(\"\\\"\")[3])\n",
    "    bench = bench.drop(columns=['loc'])\n",
    "    bench_info = bench[info]\n",
    "    bench_model = bench[model]\n",
    "    return bench_info, bench_model"
   ]
  },
  {
   "cell_type": "code",
   "execution_count": 172,
   "id": "124cbbbc",
   "metadata": {},
   "outputs": [],
   "source": [
    "def features_choices_16(bench,drop_list,names,info,model):\n",
    "    bench[\"age\"] = bench[\"DataYear\"]-bench[\"YearBuilt\"]\n",
    "    bench = bench.drop(columns=drop_list)\n",
    "    bench = bench.rename(names,axis='columns')\n",
    "    bench_info = bench[info]\n",
    "    bench_model = bench[model]\n",
    "    return bench_info, bench_model"
   ]
  },
  {
   "cell_type": "code",
   "execution_count": 173,
   "id": "1b93543f",
   "metadata": {},
   "outputs": [],
   "source": [
    "def features_choices(bench15_1, bench16_1, to_drop_15, to_drop_16, new_names_15, new_names_16, info_var, model_var):\n",
    "    bench15_info, bench15_model = features_choices_15(bench15_1, to_drop_15, new_names_15, info_var, model_var)\n",
    "    bench16_info, bench16_model = features_choices_16(bench16_1, to_drop_16, new_names_16, info_var, model_var)\n",
    "    bench_info = pd.concat([bench15_info, bench16_info],axis=0).reset_index(drop=True)\n",
    "#     bench_info = bench_info.drop_duplicates(subset = [\"id\"]).reset_index(drop=True)\n",
    "    bench_model = pd.concat([bench15_model, bench16_model],axis=0).reset_index(drop=True)\n",
    "#     bench_model = bench_model.drop_duplicates(subset = [\"id\"]).reset_index(drop=True) \n",
    "    return bench_info, bench_model"
   ]
  },
  {
   "cell_type": "code",
   "execution_count": 174,
   "id": "9fe56d72",
   "metadata": {},
   "outputs": [],
   "source": [
    "def loc_outlier():\n",
    "    # from sklearn.neighbors import LocalOutlierFactor\n",
    "    # X = bench_model_cleaned[['age', 'nb', 'nf', 'building_gfa' ,'parking_gfa','total_gfa', 'lput_gfa', 'sput_gfa', 'tput_gfa', 'energy_use', 'ghg_emission']].values\n",
    "    # clf = LocalOutlierFactor(n_neighbors=3)\n",
    "    # a = pd.DataFrame(data=clf.fit_predict(X),columns=['outlier'])\n",
    "    # a['id']=bench_model_cleaned.id\n",
    "    # a.outlier.value_counts()\n",
    "    # bench_model_cleaned = bench_model_cleaned.drop(bench_model_cleaned[bench_model_cleaned.id.isin(a[a['outlier']==-1]['id'].values)].index)\n",
    "    # clf.negative_outlier_factor_\n",
    "    return 3"
   ]
  },
  {
   "cell_type": "markdown",
   "id": "96f8a09b",
   "metadata": {},
   "source": [
    "## Cleaning function"
   ]
  },
  {
   "cell_type": "code",
   "execution_count": 175,
   "id": "f1383dc5",
   "metadata": {},
   "outputs": [],
   "source": [
    "def outlier_cleaning(bench,outliers_id):\n",
    "    bench_no_outlier = bench.drop(bench[bench['id'].isin(outliers_id)].index)\n",
    "    #(bench_no_outlier['SiteEnergyUse(kBtu)']>=2*10**7)|\n",
    "    outliers_idx = bench_no_outlier[(bench_no_outlier['energy_use']<=10**4)|(bench_no_outlier.energy_use > 25118864)|(bench_no_outlier.ghg_emission < 1)].index\n",
    "    bench_no_outlier = bench_no_outlier.drop(outliers_idx)\n",
    "    return bench_no_outlier"
   ]
  },
  {
   "cell_type": "code",
   "execution_count": 176,
   "id": "76ecc5ed",
   "metadata": {},
   "outputs": [],
   "source": [
    "def property_use_types_cleansing_and_imputation(bench_model):\n",
    "    # Imputation de la variable largest property use type avec la variable primary property type\n",
    "    unchanged = [\"Hotel\",\"Retail Store\",\"Non-Refrigerated Warehouse\",\"Other\",\"Distribution Center\",\"Medical Office\",\"Worship Facility\",\"Laboratory\",\"Refrigerated Warehouse\",\"Supermarket/Grocery Store\", \"Restaurant\", \"College/University\",\"Senior Care Community\",\"Self-Storage Facility\"]\n",
    "    for idx in bench_model[(~bench_model[\"primary_type\"].isna())&(bench_model[\"lput\"].isna())].index:\n",
    "        if (bench_model.loc[idx,\"primary_type\"]==\"Large Office\")|(bench_model.loc[idx,\"primary_type\"]==\"Small- and Mid-Sized Office\"):\n",
    "            bench_model.at[idx,\"lput\"] = \"Office\"\n",
    "            bench_model.at[idx,\"lput_gfa\"] = bench_model.loc[idx,\"building_gfa\"]    \n",
    "        if \"Multifamily\" in bench_model.loc[idx,\"primary_type\"]:\n",
    "            bench_model.at[idx,\"lput\"] = \"Multifamily Housing\"\n",
    "            bench_model.at[idx,\"lput_gfa\"] = bench_model.loc[idx,\"building_gfa\"]\n",
    "        if (bench_model.loc[idx,\"primary_type\"]==\"SPS-District K-12\"):\n",
    "            bench_model.at[idx,\"lput\"] = \"K-12 School\"\n",
    "            bench_model.at[idx,\"lput_gfa\"] = bench_model.loc[idx,\"building_gfa\"] \n",
    "        if (bench_model.loc[idx,\"primary_type\"]==\"Hospital\"):\n",
    "            bench_model.at[idx,\"lput\"] = \"Hospital (General Medical & Surgical)\"\n",
    "            bench_model.at[idx,\"lput_gfa\"] = bench_model.loc[idx,\"building_gfa\"]\n",
    "        if idx in [649, 2262, 2716]:\n",
    "            bench_model.at[idx,\"lput\"] = \"Retail Store\"\n",
    "            bench_model.at[idx,\"lput_gfa\"] = bench_model.loc[idx,\"building_gfa\"]\n",
    "        if idx==347:\n",
    "            bench_model.at[idx,\"lput\"] = \"Medical Office\"\n",
    "            bench_model.at[idx,\"lput_gfa\"] = bench_model.loc[idx,\"building_gfa\"]\n",
    "        if idx==309:\n",
    "            bench_model.at[idx,\"lput\"] = \"Other\"\n",
    "            bench_model.at[idx,\"lput_gfa\"] = bench_model.loc[idx,\"building_gfa\"]\n",
    "        if bench_model.loc[idx,\"primary_type\"] in unchanged:\n",
    "            bench_model.at[idx,\"lput\"] = bench_model.loc[idx,\"primary_type\"]\n",
    "            bench_model.at[idx,\"lput_gfa\"] = bench_model.loc[idx,\"building_gfa\"]\n",
    "\n",
    "    # Imputation des second et third property use type\n",
    "    to_complete_cat = ['lput', 'sput', 'tput']\n",
    "    for cat in to_complete_cat:\n",
    "        bench_model[cat] = bench_model[cat].fillna('Aucun')\n",
    "        bench_model[cat+'_gfa'] = bench_model[cat+'_gfa'].fillna(0)\n",
    "    \n",
    "    # Suppression des données non utilisables \n",
    "    drop_idx_1 = bench_model[(bench_model['energy_use'].isna())|(bench_model['ghg_emission'].isna())].index\n",
    "    bench_model = bench_model.drop(drop_idx_1)\n",
    "    # Suppression des propriétés dont on ne connais pas le nombre d'étage\n",
    "    drop_idx_2 = bench_model[(bench_model[\"nf\"].isna())].index\n",
    "    bench_model = bench_model.drop(drop_idx_2)\n",
    "    # Regroupement de la classe NonResidential\n",
    "    bench_model['type']=bench_model['type'].replace('Nonresidential COS','NonResidential')\n",
    "    # Reset de l'index\n",
    "    bench_model = bench_model.reset_index(drop=True)\n",
    "    \n",
    "    return bench_model"
   ]
  },
  {
   "cell_type": "markdown",
   "id": "9a822821",
   "metadata": {},
   "source": [
    "## Data Visualisation Functions"
   ]
  },
  {
   "cell_type": "code",
   "execution_count": 177,
   "id": "c4a8176f",
   "metadata": {},
   "outputs": [],
   "source": [
    "def boxplot(x):\n",
    "    fig, ax = plt.subplots(figsize=(15,15))\n",
    "    ax.boxplot(x, vert = False)\n",
    "    plt.show()"
   ]
  },
  {
   "cell_type": "code",
   "execution_count": 178,
   "id": "b6a98108",
   "metadata": {},
   "outputs": [],
   "source": [
    "def barplot(x, y, data):\n",
    "    fig, ax = plt.subplots(figsize=(15,15))\n",
    "    sns.set_theme(style=\"whitegrid\") \n",
    "    ax = sns.barplot(x=x, y=y, data=data)\n",
    "    plt.show()"
   ]
  },
  {
   "cell_type": "code",
   "execution_count": 179,
   "id": "83ac2e79",
   "metadata": {},
   "outputs": [],
   "source": [
    "def seattle_map():\n",
    "    f = open(r\"C:\\Users\\Nabil\\Desktop\\Openclassrooms\\Projet4\\2016_seattle_city.geojson\", \"r\")\n",
    "    dep_gjs=geojson.load(f)\n",
    "    scl = [[0,\"rgb(150,0,90)\"],[0.125,\"rgb(0, 0, 200)\"],[0.25,\"rgb(0, 25, 255)\"],[0.375,\"rgb(0, 152, 255)\"],[0.5,\"rgb(44, 255, 150)\"],[0.625,\"rgb(151, 255, 0)\"],[0.75,\"rgb(255, 234, 0)\"],[0.875,\"rgb(255, 111, 0)\"],[1,\"rgb(255, 0, 0)\"]]\n",
    "    fig = px.choropleth(pd.DataFrame([[1,2],[1,2]],columns=['CD','color']), geojson=dep_gjs, color=\"color\",locations=\"CD\", featureidkey=\"properties.rowID\",projection=\"mercator\",color_continuous_scale=[\"#ffffff\",\"#eeeeee\"])\n",
    "    fig.update_layout(coloraxis_showscale=False)\n",
    "    fig.add_traces(go.Scattergeo(lat=bench_info.lat, lon=bench_info.lon, text=bench_model[\"id\"].astype('str')+' : '+bench_model[\"energy_use\"].astype('str'),marker = dict(size = 3,color = bench_model['energy_use'],colorscale = scl, colorbar = dict(titleside = \"right\", outlinecolor = \"rgba(68, 68, 68, 0)\"))))\n",
    "    fig.update_geos(fitbounds=\"locations\", visible=False)\n",
    "    fig.update_layout(margin={\"r\":0,\"t\":20,\"l\":0,\"b\":20})\n",
    "    fig.show()"
   ]
  },
  {
   "cell_type": "code",
   "execution_count": 180,
   "id": "d6b4c800",
   "metadata": {},
   "outputs": [],
   "source": [
    "def histogram(data, x):\n",
    "    fig, ax = plt.subplots(figsize=(15,15))\n",
    "    sns.set_theme(style=\"whitegrid\") \n",
    "    sns.histplot(data=data, x=x)\n",
    "    plt.show()"
   ]
  },
  {
   "cell_type": "markdown",
   "id": "f90051fb",
   "metadata": {},
   "source": [
    "# <p style = 'text-align:center'> Importation des données </p>"
   ]
  },
  {
   "cell_type": "code",
   "execution_count": 181,
   "id": "3c90dedc",
   "metadata": {},
   "outputs": [],
   "source": [
    "bench15_0, bench16_0 = pd.read_csv(r\"2015-building-energy-benchmarking.csv\"), pd.read_csv(r\"2016-building-energy-benchmarking.csv\")"
   ]
  },
  {
   "cell_type": "code",
   "execution_count": 182,
   "id": "01739d5e",
   "metadata": {},
   "outputs": [],
   "source": [
    "outliers_id = np.concatenate((bench15_0[~bench15_0.Outlier.isna()].OSEBuildingID.values,bench16_0[~bench16_0.Outlier.isna()].OSEBuildingID.values))"
   ]
  },
  {
   "cell_type": "markdown",
   "id": "57a8c300",
   "metadata": {},
   "source": [
    "# <p style = 'text-align:center'> Choix des features </p>"
   ]
  },
  {
   "cell_type": "code",
   "execution_count": 183,
   "id": "d40dfc07",
   "metadata": {},
   "outputs": [],
   "source": [
    "# import json\n",
    "# file=open(r\"C:\\Users\\Nabil\\Desktop\\Openclassrooms\\Projet4\\socrata_metadata_2015-building-energy-benchmarking.json\")\n",
    "# meta_2015=json.load(file)\n",
    "# file_2=open(r\"C:\\Users\\Nabil\\Desktop\\Openclassrooms\\Projet4\\socrata_metadata_2016-building-energy-benchmarking.json\")\n",
    "# meta_2016=json.load(file_2)"
   ]
  },
  {
   "cell_type": "code",
   "execution_count": 184,
   "id": "d01c5fa2",
   "metadata": {},
   "outputs": [],
   "source": [
    "# display(Markdown('# <p style=\\'text-align:center\\'> Description des variables : </p>'))\n",
    "# for i in range(len(meta_2015[\"columns\"])):\n",
    "#     try:\n",
    "#         print('\\033[1m' + meta_2015[\"columns\"][i][\"name\"] + '\\033[0m' + ' : ' + meta_2015[\"columns\"][i][\"description\"]+'\\n')\n",
    "#     except:\n",
    "#         continue"
   ]
  },
  {
   "cell_type": "code",
   "execution_count": 185,
   "id": "07fd7307",
   "metadata": {},
   "outputs": [],
   "source": [
    "# features à supprimer dans le dataset de 2015 et celui de 2016\n",
    "to_drop_15 = [\"DataYear\",\"YearBuilt\",'TaxParcelIdentificationNumber', 'Neighborhood','ListOfAllPropertyUseTypes','YearsENERGYSTARCertified','SiteEUI(kBtu/sf)', 'SiteEUIWN(kBtu/sf)', 'SourceEUIWN(kBtu/sf)','SourceEUI(kBtu/sf)', 'SiteEnergyUseWN(kBtu)', 'Electricity(kWh)',  'NaturalGas(therms)', 'OtherFuelUse(kBtu)','GHGEmissionsIntensity(kgCO2e/ft2)','DefaultData', 'Comment', 'ComplianceStatus', 'Outlier', '2010 Census Tracts', 'Seattle Police Department Micro Community Policing Plan Areas','City Council Districts', 'SPD Beats']\n",
    "to_drop_16 = ['DataYear', 'City', 'State', 'TaxParcelIdentificationNumber', 'Neighborhood', 'YearBuilt', 'ListOfAllPropertyUseTypes','YearsENERGYSTARCertified','SiteEUI(kBtu/sf)', 'SiteEUIWN(kBtu/sf)', 'SourceEUIWN(kBtu/sf)','SourceEUI(kBtu/sf)', 'SiteEnergyUseWN(kBtu)', 'Electricity(kWh)', 'NaturalGas(therms)', 'DefaultData', 'Comments', 'ComplianceStatus', 'Outlier', 'GHGEmissionsIntensity']\n",
    "\n",
    "# nouveaux noms pour les features qu'on garde dans le dataset de 2015 et 2016 \n",
    "new_names_15 = {'OSEBuildingID':'id', 'CouncilDistrictCode':'district_code' , 'BuildingType':'type', 'PrimaryPropertyType':'primary_type', 'PropertyName':'name','Location':'loc', 'NumberofBuildings':'nb', 'NumberofFloors':'nf','PropertyGFATotal':'total_gfa',  'PropertyGFAParking':'parking_gfa', 'PropertyGFABuilding(s)':'building_gfa', 'LargestPropertyUseType':'lput', 'LargestPropertyUseTypeGFA':'lput_gfa', 'SecondLargestPropertyUseType':'sput', 'SecondLargestPropertyUseTypeGFA':'sput_gfa', 'ThirdLargestPropertyUseType':'tput', 'ThirdLargestPropertyUseTypeGFA':'tput_gfa', 'ENERGYSTARScore':'energy_score', 'SiteEnergyUse(kBtu)':'energy_use', 'GHGEmissions(MetricTonsCO2e)':'ghg_emission', 'Zip Codes':'zip', 'SteamUse(kBtu)':'steam', 'Electricity(kBtu)':'electricity', 'NaturalGas(kBtu)':'natural_gas'}\n",
    "new_names_16 = {'OSEBuildingID':'id', 'CouncilDistrictCode':'district_code' ,'BuildingType':'type', 'PrimaryPropertyType':'primary_type', 'PropertyName':'name', 'Address':'adress', 'ZipCode':'zip', 'Latitude':'lat', 'Longitude':'lon', 'NumberofBuildings':'nb', 'NumberofFloors':'nf', 'PropertyGFATotal':'total_gfa', 'PropertyGFAParking':'parking_gfa', 'PropertyGFABuilding(s)':'building_gfa', 'LargestPropertyUseType':'lput', 'LargestPropertyUseTypeGFA':'lput_gfa', 'SecondLargestPropertyUseType':'sput', 'SecondLargestPropertyUseTypeGFA':'sput_gfa', 'ThirdLargestPropertyUseType':'tput', 'ThirdLargestPropertyUseTypeGFA':'tput_gfa', 'ENERGYSTARScore':'energy_score', 'SiteEnergyUse(kBtu)':'energy_use', 'TotalGHGEmissions':'ghg_emission', 'SteamUse(kBtu)':'steam', 'Electricity(kBtu)':'electricity', 'NaturalGas(kBtu)':'natural_gas'}"
   ]
  },
  {
   "cell_type": "code",
   "execution_count": 186,
   "id": "92151a13",
   "metadata": {},
   "outputs": [],
   "source": [
    "# features pour le dataset des informations des propriétés\n",
    "info_var = ['id', 'name', 'lat', 'lon', 'adress', 'energy_score', 'zip']\n",
    "\n",
    "#features pour le dataset des variables du modèle\n",
    "model_var = ['id', 'age', 'nb', 'nf', 'type', 'primary_type','district_code', 'building_gfa' ,'parking_gfa','total_gfa', 'lput', 'lput_gfa', 'sput', 'sput_gfa', 'tput', 'tput_gfa', 'energy_score', 'energy_use', 'ghg_emission','electricity','natural_gas','steam']"
   ]
  },
  {
   "cell_type": "code",
   "execution_count": 187,
   "id": "1afd0991",
   "metadata": {},
   "outputs": [],
   "source": [
    "bench_info, bench_model = features_choices(bench15_0, bench16_0, to_drop_15, to_drop_16, new_names_15, new_names_16, info_var, model_var)"
   ]
  },
  {
   "cell_type": "markdown",
   "id": "03dbd046",
   "metadata": {},
   "source": [
    "# <p style = 'text-align:center'> Exploration des features </p>"
   ]
  },
  {
   "cell_type": "code",
   "execution_count": 210,
   "id": "3b691595",
   "metadata": {},
   "outputs": [
    {
     "data": {
      "image/png": "[encoded data removed]",
      "text/plain": [
       "<Figure size 1080x1080 with 10 Axes>"
      ]
     },
     "metadata": {
      "needs_background": "light"
     },
     "output_type": "display_data"
    }
   ],
   "source": [
    "fig, axs = plt.subplots(5,2, figsize=(15,15))\n",
    "numerical_features = ['age', 'nb', 'nf', 'building_gfa' ,'parking_gfa','total_gfa', 'lput_gfa', 'sput_gfa', 'tput_gfa', 'energy_score']\n",
    "for idx in range(len(numerical_features)):\n",
    "    axs[idx//2,idx%2].hist(bench_model[numerical_features[idx]],bins=40)\n",
    "    axs[idx//2,idx%2].set_title(numerical_features[idx])"
   ]
  },
  {
   "cell_type": "markdown",
   "id": "2efe4051",
   "metadata": {},
   "source": [
    "##  Corrélations"
   ]
  },
  {
   "cell_type": "code",
   "execution_count": 208,
   "id": "424bcea8",
   "metadata": {},
   "outputs": [
    {
     "data": {
      "image/png": "[encoded data removed]",
      "text/plain": [
       "<Figure size 720x720 with 2 Axes>"
      ]
     },
     "metadata": {
      "needs_background": "light"
     },
     "output_type": "display_data"
    }
   ],
   "source": [
    "numerical_features = ['age', 'nb', 'nf', 'building_gfa' ,'parking_gfa','total_gfa', 'lput_gfa', 'sput_gfa', 'tput_gfa', 'energy_score']\n",
    "bench_model_num = bench_model[numerical_features]\n",
    "fig, ax = plt.subplots(figsize=(10,10))\n",
    "ax = sns.heatmap(bench_model_num.corr(), vmin=0, vmax=1)\n",
    "plt.show()"
   ]
  },
  {
   "cell_type": "markdown",
   "id": "ba5ccfa1",
   "metadata": {},
   "source": [
    "# <p style = 'text-align:center'> Bâtiments non destinés à l'habitation </p>"
   ]
  },
  {
   "cell_type": "code",
   "execution_count": 189,
   "id": "e02c9a8f",
   "metadata": {},
   "outputs": [
    {
     "data": {
      "image/png": "[encoded data removed]",
      "text/plain": [
       "<Figure size 720x720 with 1 Axes>"
      ]
     },
     "metadata": {
      "needs_background": "light"
     },
     "output_type": "display_data"
    }
   ],
   "source": [
    "fig, ax = plt.subplots(figsize=(10,10))\n",
    "ax = sns.countplot(y=bench_model.type)"
   ]
  },
  {
   "cell_type": "code",
   "execution_count": 190,
   "id": "18ba7e2b",
   "metadata": {},
   "outputs": [],
   "source": [
    "bench_model = bench_model.drop(bench_model[bench_model['type'].str.contains('Multifamily')].index)"
   ]
  },
  {
   "cell_type": "code",
   "execution_count": 191,
   "id": "27eecf35",
   "metadata": {},
   "outputs": [
    {
     "data": {
      "image/png": "[encoded data removed]",
      "text/plain": [
       "<Figure size 720x720 with 1 Axes>"
      ]
     },
     "metadata": {
      "needs_background": "light"
     },
     "output_type": "display_data"
    }
   ],
   "source": [
    "fig, ax = plt.subplots(figsize=(10,10))\n",
    "ax = sns.countplot(y=bench_model.type)"
   ]
  },
  {
   "cell_type": "markdown",
   "id": "7daf4aa3",
   "metadata": {},
   "source": [
    "# <p style = 'text-align:center'> Nettoyage des outliers </p>"
   ]
  },
  {
   "cell_type": "code",
   "execution_count": 192,
   "id": "d0970f7a",
   "metadata": {},
   "outputs": [],
   "source": [
    "# Suppression des outliers\n",
    "bench_model = outlier_cleaning(bench_model,outliers_id)"
   ]
  },
  {
   "cell_type": "markdown",
   "id": "177a2f5c",
   "metadata": {},
   "source": [
    "# <p style = 'text-align:center'> Création de nouvelles features </p>"
   ]
  },
  {
   "cell_type": "code",
   "execution_count": 193,
   "id": "b03d325d",
   "metadata": {},
   "outputs": [],
   "source": [
    "bench_model['electricity_bool'] = bench_model['electricity'].apply(lambda x : 1 if x!=0 else 0)\n",
    "bench_model['electricity_pct'] = bench_model['electricity'].divide(bench_model['energy_use'])\n",
    "bench_model['natural_gas_bool'] = bench_model['natural_gas'].apply(lambda x : 1 if x!=0 else 0)\n",
    "bench_model['natural_gas_pct'] = bench_model['natural_gas'].divide(bench_model['energy_use'])\n",
    "bench_model['steam_bool'] = bench_model['steam'].apply(lambda x : 1 if x!=0 else 0)\n",
    "bench_model['steam_pct'] = bench_model['steam'].divide(bench_model['energy_use'])\n",
    "bench_model = bench_model.drop(columns=['electricity','natural_gas','steam'])"
   ]
  },
  {
   "cell_type": "markdown",
   "id": "98476364",
   "metadata": {},
   "source": [
    "# <p style = 'text-align:center'> Valeurs abbérentes </p>"
   ]
  },
  {
   "cell_type": "code",
   "execution_count": 194,
   "id": "9c078a3d",
   "metadata": {},
   "outputs": [],
   "source": [
    "# Propriétés ayant des surfaces négatives \n",
    "negativ_area_index = bench_model[(bench_model[\"total_gfa\"]<0)|(bench_model[\"building_gfa\"]<0)|(bench_model[\"parking_gfa\"]<0)].index\n",
    "for idx in negativ_area_index:\n",
    "    bench_model.at[idx,\"building_gfa\"] = np.abs(bench_model.at[idx,\"building_gfa\"])\n",
    "    bench_model.at[idx,\"parking_gfa\"] = np.abs(bench_model.at[idx,\"parking_gfa\"])\n",
    "    bench_model.at[idx,\"total_gfa\"] = np.abs(bench_model.at[idx,\"total_gfa\"])"
   ]
  },
  {
   "cell_type": "code",
   "execution_count": 195,
   "id": "c42812fc",
   "metadata": {},
   "outputs": [],
   "source": [
    "# Valeurs abbérentes détecté manuellement\n",
    "bench_model = bench_model.drop(bench_model[(bench_model.id.isin([33, 34, 54, 60, 61, 70, 85, 100, 102, 113, 230, 49784, 553]))].index)"
   ]
  },
  {
   "cell_type": "markdown",
   "id": "af1dfa8a",
   "metadata": {},
   "source": [
    "# <p style = 'text-align:center'> Imputations </p>"
   ]
  },
  {
   "cell_type": "code",
   "execution_count": 196,
   "id": "1c80ffb6",
   "metadata": {},
   "outputs": [],
   "source": [
    "bench_model_cleaned = property_use_types_cleansing_and_imputation(bench_model)"
   ]
  },
  {
   "cell_type": "code",
   "execution_count": 197,
   "id": "6193ecf8",
   "metadata": {},
   "outputs": [],
   "source": [
    "from sklearn.preprocessing import StandardScaler, OneHotEncoder\n",
    "\n",
    "Xnum = bench_model_cleaned[['age','nb','nf','building_gfa','parking_gfa','lput_gfa','sput_gfa','tput_gfa','energy_score']].values\n",
    "Xcat = bench_model_cleaned[['type','district_code','lput','sput','tput']]\n",
    "enc = OneHotEncoder(handle_unknown='ignore')\n",
    "Xenc = enc.fit_transform(Xcat.values).toarray()\n",
    "X = np.concatenate((Xnum, Xenc),axis=1)\n",
    "\n",
    "from sklearn.impute import KNNImputer\n",
    "\n",
    "imputer = KNNImputer(n_neighbors=2)\n",
    "X_imp = imputer.fit_transform(X)\n",
    "\n",
    "bench_model_cleaned['energy_score'] = X_imp[:,8]"
   ]
  },
  {
   "cell_type": "code",
   "execution_count": 201,
   "id": "04c4cb64",
   "metadata": {},
   "outputs": [],
   "source": [
    "# bench_model_cleaned.info()"
   ]
  },
  {
   "cell_type": "code",
   "execution_count": 199,
   "id": "fe9531b9",
   "metadata": {},
   "outputs": [],
   "source": [
    "# boxplot(bench_model_cleaned['energy_use'])"
   ]
  },
  {
   "cell_type": "code",
   "execution_count": 200,
   "id": "b83b99ef",
   "metadata": {},
   "outputs": [],
   "source": [
    "# seattle_map()"
   ]
  },
  {
   "cell_type": "code",
   "execution_count": 237,
   "id": "9984a970",
   "metadata": {},
   "outputs": [],
   "source": [
    "bench_model_cleaned.to_excel(\"benchmark_cleaned.xlsx\", index=False)"
   ]
  },
  {
   "cell_type": "code",
   "execution_count": 39,
   "id": "f13a00e8",
   "metadata": {},
   "outputs": [],
   "source": [
    "# R = bench.energy_use\n",
    "# s = bench.ghg_emission\n",
    "# R_train, R_test, s_train, s_test = train_test_split(R, s, test_size=0.2, random_state=80)\n",
    "# scaler = StandardScaler()\n",
    "# scaler.fit([[x] for x in R_train])\n",
    "# R_train_std =scaler.transform([[x] for x in R_train])\n",
    "# R_test_std = scaler.transform([[x] for x in R_test])\n",
    "\n",
    "# ridge = Ridge(alpha = 10000)\n",
    "# ridge.fit(R_train_std, s_train)\n",
    "# s_pred_train_simple, s_pred_test_simple  = ridge.predict(R_train_std), ridge.predict(R_test_std)\n",
    "\n",
    "# time_simple= get_time(start_time, end_time)\n",
    "\n",
    "# show_metric(s_pred_train_simple, s_train, s_pred_test_simple, s_test, time_simple)"
   ]
  },
  {
   "cell_type": "code",
   "execution_count": 126,
   "id": "37a032d3",
   "metadata": {},
   "outputs": [],
   "source": [
    "# model_vs_real(s_pred_train_simple, s_train, 'ghg_emission')"
   ]
  },
  {
   "cell_type": "code",
   "execution_count": null,
   "id": "0070d038",
   "metadata": {},
   "outputs": [],
   "source": []
  }
 ],
 "metadata": {
  "kernelspec": {
   "display_name": "Python 3 (ipykernel)",
   "language": "python",
   "name": "python3"
  },
  "language_info": {
   "codemirror_mode": {
    "name": "ipython",
    "version": 3
   },
   "file_extension": ".py",
   "mimetype": "text/x-python",
   "name": "python",
   "nbconvert_exporter": "python",
   "pygments_lexer": "ipython3",
   "version": "3.10.4"
  }
 },
 "nbformat": 4,
 "nbformat_minor": 5
}
